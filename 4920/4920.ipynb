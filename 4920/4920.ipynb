{
 "cells": [
  {
   "cell_type": "markdown",
   "metadata": {},
   "source": [
    "# Technical Writing Seminar\n",
    "#### ECE 4920, [V. Hunter Adams](https://vanhunteradams.com)\n",
    "\n",
    "**Note**: I've adopted many of [Bruce Land's](https://people.ece.cornell.edu/land/courses/ece4920/index.html) policies for this course. "
   ]
  },
  {
   "cell_type": "markdown",
   "metadata": {},
   "source": [
    "***"
   ]
  },
  {
   "cell_type": "markdown",
   "metadata": {},
   "source": [
    "## The Objective\n",
    "\n",
    "In this class, you will rewrite your final project for [ECE 4760](https://ece4760.github.io) or [ECE 5760](https://people.ece.cornell.edu/land/courses/ece5760/FinalProjects/) for publication in a magazine or journal of your choice. A good grade in this course does not require that your article is accepted by the magazine or journal (that is out of your control), but it does require that your article meets the writers guidelines for your chosen publication and that the article is rewritten as appropriate for the audience of that publication. Ultimately, it is your decision whether or not you would like to submit your article for publication. Publishing your work advertises your abilities and protects you against plagiarism, but it also introduces some complications if you plan to patent your project. If you are considering a patent, please discuss with me so that we can come up with the best plan for protecting your intellectual property.\n",
    "\n",
    "This course fulfills the College of Engineering [Technical Communication](https://www.engineering.cornell.edu/students/undergraduate-students/curriculum/engineering-communications-program/technical) requirement, and may also be used as an advisor-approved elective."
   ]
  },
  {
   "cell_type": "markdown",
   "metadata": {},
   "source": [
    "***"
   ]
  },
  {
   "cell_type": "markdown",
   "metadata": {},
   "source": [
    "## Prerequisites\n",
    "\n",
    "You must have taken ECE 4760 or ECE 5760 ***in a previous semester*** to enroll in this course. You may not take this course and ECE 4760/ECE 5760 simultaneously."
   ]
  },
  {
   "cell_type": "markdown",
   "metadata": {},
   "source": [
    "***"
   ]
  },
  {
   "cell_type": "markdown",
   "metadata": {},
   "source": [
    "## Procedure\n",
    "\n",
    "#### Before our first meeting\n",
    "- Read articles from a variety of publications to decide which is most appropriate for your project. I will help you with this, of course, but it's best if you've done some preliminary reading. Some publications that you might consider include (but are not limited to):\n",
    "> - [Circuit Cellar](https://circuitcellar.com) - this is our most common magazine for publication\n",
    "> - [Hackspace](https://hackspace.raspberrypi.com)\n",
    "> - [Elektor](https://www.elektor.com/products/magazines)\n",
    "> - [Electronics World](https://www.electronicsworld.co.uk/magazines-2018/)\n",
    "> - [IEEE Spectrum](https://spectrum.ieee.org)\n",
    "> - [Nuts and Volts](http://www.nutsvolts.com/)\n",
    "- Depending on your project, you might also consider an academic journal (in rare cases) or a publication devoted to the particular topic for your project (music, biology, etc.).\n",
    "- ***Email me to setup a first meeting.***\n",
    "\n",
    "#### At our first meeting (***first or second week of classes***)\n",
    "- We will decide upon a target publication, based on your research.\n",
    "- We will obtain a style guide for your target publication.\n",
    "- We will establish a meeting schedule.\n",
    "\n",
    "#### Before our second meeting\n",
    "- *Resolve IP considerations with your lab partners.*\n",
    "> - All partners that are participating in this class will be co-authors.\n",
    "> - Partners that are not participating in this class have two options. **Each partner must send me an email specifying their chosen option.**\n",
    "> > - They will be a co-author, and therefore participate in approving the writing, but not do the writing.\n",
    "> > - They will not be a co-author, and therefore will be acknowledged but not participate in the writing *or* approval.\n",
    "- Rewrite you final project report. ***Take this first draft very seriously.***\n",
    "> - Reorganize your report for a top-down explanation of the project. Remember that your audience may be non-specialist. If so, have a nonn-engineering friend read your draft for clarity.\n",
    "> - Remove all references to our particular class (e.g. \"We used Hunter's board.\"), replace these with more general statements.\n",
    "> - Where appropriate, remove highly specific references to our architecture. For example, replace \"We configured Timer 2 to overflow every 909 CPU cycles.\" with \"We configured a 16-bit timer, incrementing at 40MHz, to overflow every 909 cycles.\" Someone that *knows about microcontrollers* should understand what you're saying, even if they've *never worked with our specific microcontroller.* These sorts of errors are most common in first drafts.\n",
    "> - Eliminate ABET-specific sections from your report, and convert to a design narrative suitable for the publication's target audience. In most cases, you don't need the ethics, safety, or work distribution sections.\n",
    "> - All images should be included.\n",
    "> - *Research background material and related projects.* Assemble a reference list to include in the manuscript.\n",
    "> - Reorganize and (if necessary) extend the results section of the original report.\n",
    "> - Do not use any code in the text of the manuscript. Explain it in words. There are occasional exceptions to this, but never for PLIB function calls.\n",
    "> - ***Follow the style guide for the target publication***.\n",
    "- ***Submit your first draft through Canvas one week before our next meeting.*** I need time to read through the draft.\n",
    "\n",
    "#### At our second meeting (***fourth or fifth week of classes***)\n",
    "- We will discuss necessary revisions to your first draft.\n",
    "\n",
    "#### At every subsequent meeting (we'll meet every two weeks)\n",
    "- We will discuss necessary revisions to your most recent draft.\n",
    "\n",
    "Usually, it takes 3-4 revisions to get the manuscript ready for submission. Sometimes more, sometimes less. Once we all agree that it is ready, submit it to the magazine/journal *and cc me*!"
   ]
  },
  {
   "cell_type": "markdown",
   "metadata": {},
   "source": [
    "***"
   ]
  },
  {
   "cell_type": "markdown",
   "metadata": {},
   "source": [
    "## Grading\n",
    "\n",
    "Your grade will be based on the following:\n",
    "\n",
    "- Timely submission of writing drafts during the semester. Your final grade will drop one grade-step (A$\\rightarrow$A-, B+$\\rightarrow$B) for every day that a deliverable is late.\n",
    "- A first draft which is a cut/paste of your final report will drop your final grade by two grade steps.\n",
    "- Attention to detail (clarity of explanation/narrative, grammar, sentence structure, thoughtfulness to organization, adherence to style guide)\n",
    "- Increase in draft quality with each draft. A lack of improvement between two subsequent drafts will drop your final grade by one or more grade steps.\n",
    "- Quality of the final draft. If we get to the end of the semester and the manuscript still isn't acceptable for publication, you will lose one or more grade steps.\n",
    "- Failure to finish by draft no. 5 will result in a significant grade reduction.\n",
    "- Failure to submit a finished manuscript to the magazine/journal by the end of finals will result in a significant grade reduction (with exceptions made for students pursuing patents).\n",
    "\n",
    "Your grade does not depend on the manuscript being accepted by the publication!"
   ]
  },
  {
   "cell_type": "markdown",
   "metadata": {},
   "source": [
    "***"
   ]
  },
  {
   "cell_type": "markdown",
   "metadata": {},
   "source": [
    "## References\n",
    "- [Student articles published since 2022](https://vanhunteradams.com/4920/Published.html)\n",
    "- [Student articles published since 2002](https://people.ece.cornell.edu/land/courses/eceprojectsland/STUDENTPROJ/published.html)\n",
    "- [Submission packet for article accepted by Circuit Cellar](./CircuitCellarArticle.zip)\n",
    "- [Circuit cellar style guide](http://circuitcellar.com/wp-content/uploads/2018/12/Authors-Guide-Circuit-Cellar-12-2018-Updated.pdf) and [submission instructions](http://circuitcellar.com/submit/)\n",
    "- [Nuts and Volts writer's guidelines](https://people.ece.cornell.edu/land/courses/ece4920/NutsVolts-SV%20Writers%20Guidelines%202019.pdf)\n",
    "- [IEEE style guide](https://www.ieee.org/content/dam/ieee-org/ieee/web/org/conferences/style_references_manual.pdf)\n",
    "- [IEEE Computer society style guide](https://www.computer.org/publications/computer-society-style-guide)\n",
    "- [ACM](http://www.acm.org/publications/acm-word-style-guide)"
   ]
  },
  {
   "cell_type": "markdown",
   "metadata": {},
   "source": [
    "***"
   ]
  }
 ],
 "metadata": {
  "kernelspec": {
   "display_name": "Python 3",
   "language": "python",
   "name": "python3"
  },
  "language_info": {
   "codemirror_mode": {
    "name": "ipython",
    "version": 3
   },
   "file_extension": ".py",
   "mimetype": "text/x-python",
   "name": "python",
   "nbconvert_exporter": "python",
   "pygments_lexer": "ipython3",
   "version": "3.8.3"
  }
 },
 "nbformat": 4,
 "nbformat_minor": 4
}
