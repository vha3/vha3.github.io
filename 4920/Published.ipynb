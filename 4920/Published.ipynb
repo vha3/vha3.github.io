{
 "cells": [
  {
   "cell_type": "markdown",
   "metadata": {},
   "source": [
    "# Published student projects\n",
    "#### ECE 4920, V. Hunter Adams (vha3@cornell.edu)"
   ]
  },
  {
   "cell_type": "markdown",
   "metadata": {},
   "source": [
    "***"
   ]
  },
  {
   "cell_type": "markdown",
   "metadata": {},
   "source": [
    "### 2025\n",
    "- Accelerating AI - Handwritten Digit Recognition with FPGA-Powered CNNs, by Jichao Yang and Yiyang Zhao, Circuit Cellar Magazine #416 February 21 2025, pp 4-10\n",
    "- Ghost Cube Theremin, by Annabel Lian and Becky Lee, Nuts and Volts Website, August 4 2025, https://www.nutsvolts.com/magazine/article/ghost-cube-theremin"
   ]
  },
  {
   "cell_type": "markdown",
   "metadata": {},
   "source": [
    "### 2024\n",
    "- Catching Lightning in an IMU - Simulating Diffusion-Limited Aggregation with a Raspberry Pi RP2040 MCU, by Angela Cui, Nathaniel Navarro, and William Yoon, Circuit Cellar Magazine #412, pp. 12-20\n",
    "- Video Game Inspired by The Legend of Zelda, by Tangia Sun, Emily Speckhals, and Max Klugherz, Circuit Cellar Magazine #406, pp. 18-24\n",
    "- The Self-Playing Xylophone, by Harris Miller, Karina Melgar, and Zoe Chen, Servo Magazine 2022 Issue 5 (released 2024), pp. 56-60\n",
    "- Table Top Garden, by Jessica Henson and Leo Davies, AgriTech Tomorrow Magazine, April 18 2024, [link here](https://www.agritechtomorrow.com/article/2024/04/table-top-garden/15450)\n",
    "- Build a Universal Infrared Remote using a Raspberry Pi Pico, by Owen Louis and Liam Sweeney, Circuit Cellar Magazine #404 March 2024 pp 22-28\n",
    "- Machine Learning using an RP2040 and the Edge Impulse Platform, by Taylor Stephens and Adam Fofana, Circuit Cellar Magazine #403 February 2024 pp 16-2022\n",
    "- Identifying Musical Chords, by Tiffany Chou and Jeff nan, Circuit Cellar Magazine #402 January 2024 pp 20-26"
   ]
  },
  {
   "cell_type": "markdown",
   "metadata": {},
   "source": [
    "### 2023\n",
    "- A Modern Take on a Classic Game: Using an RP2040 Chip, GPS, Music, and More, Circuit Cellar Magazine #401 December 2023 pp 20-26\n",
    "- Recreating the Red Light Green Light Game from Squid Game, by Katherine Fernandes and Tiffany Guo, Servo Magazine 2023 Issue 4, **COVER ARTICLE**\n",
    "<figure>\n",
    "    <img align=\"center\" width=\"200\" height=\"500\" src=\"Guo_Fernandes.jpeg\" alt='missing' />\n",
    "    <center><figcaption>Guo/Fernandes cover article</figcaption></center>\n",
    "</figure>\n",
    "- RPiano: A Playable MIDI Synthesizer, By Samiksha Hiranandani, Circuit Cellar Magazine #400 November 2023 pp 22-30\n",
    "- Building a Holographic Persistence-of-Vision Display, By Michael Crum, Joseph Horwitz, and Rabail Makhdoom, Circuit Cellar Magazine #400 November 2023 pp 4-12\n",
    "- Real-time Automatic Music Transcriber Using a Raspberry Pi RP2040, By Chris Schiff, Jacob Lashin, and Romano Tio, Circuit Cellar Magazine #398 August 2023 pp 18-24"
   ]
  },
  {
   "cell_type": "markdown",
   "metadata": {},
   "source": [
    "***"
   ]
  },
  {
   "cell_type": "markdown",
   "metadata": {},
   "source": [
    "### 2022\n",
    "- Small-Scale Game of Life Using PIC32, By Ian Kim Riley, David Wolfers, and Connor Thomas, Circuit Cellar Magazine #387 August 2022 pp 20-26\n",
    "- Build a Play-Along Keyboard Using a PIC32 Microcontroller, By Elias Hanna, Marek Chmielewski, and Matias Goldfeld, Circuit Cellar Magazine #386 September 2022 pp 12-20\n",
    "- PIC32 Based Home Arcade, By Alga Peng and Xiangyi Zhao, Circuit Cellar Magazine #386 September 2022 pp 20-26\n",
    "- Around Sound: Digital Echolocation for the Visually Impaired, By Amulya Khurana, Krithik Ranjan, and Aparajito Saha, Circuit Cellar Magazine #386 September 2022 pp 38-44\n",
    "- Build a Bluetooth Controlled Robot Tank, By Luis Martinez and Matt Hales, Servo Magazine 2022 Issue 2, **COVER ARTICLE**\n",
    "<figure>\n",
    "    <img align=\"center\" width=\"200\" height=\"500\" src=\"Martinez_Hales.JPG\" alt='missing' />\n",
    "    <center><figcaption>Martinez/Hales cover article</figcaption></center>\n",
    "</figure>\n",
    "- A Rubik's Cube Solving Guide Based on a PIC32 Microcontroller, By Alexander Drazic, Tushar Khan, and Myles Cherebin, Circuit Cellar Magazine #385 August 2022 pp 6-12\n",
    "- Oscilloscope Music: Visualizing Sounds and Hearing Images, By Ruby Min, Samantha Cobado, and Eric Khan, Circuit Cellar Magazine #385 August 2022 pp 12-20\n",
    "- Build an LED Amusement Park at Home, By Jenny Wen, Jasmin An, and Aratrika Ghatak, Nuts and Volts Magazine, 2022 Issue 2, pp 50-56\n",
    "- Building a Tri-Effect Guitar Pedal Using a PIC32 MCU, By Kingsley Odae, Jade Pinkenburg, and Jake Saunders, Circuit Cellar Magazine #384 July 2022 pp 28-34\n",
    "- Designing and Building a PIC32 Video Game: Sharks and Minnows Multiplayer Game, By Tyler Bisk and Chidera Wokonko, Circuit Cellar Magazine #384 July 2022 pp 14-20\n",
    "- Asynchronous High-Bandwidth, Low-Latency Communication: CPU-Intensive Devices, By Joseph Whelan, Akugbe Imudia, and Devlin Babcock, Circuit Cellar Magazine #384 July 2022 pp 20-28\n",
    "- Sunrise Alarm Clock: Wake up with a Natural Sunrise Simulation, By Jonathan Pfeifer, Circuit Cellar Magazine #384 July 2022 pp 28-34\n",
    "- Asymmetric VR Game with Custom Microcontroller Peripherals: Collaborative Game, By Cameron Haire, Michaela Bettez, and Daniel Batan Circuit Cellar Magazine #383 June 2022 pp 20-27\n",
    "- Make a Stochastic Music Generator: PIC32-Based Design, By William Salcedo, Rishi Singhal and Raghav Kumar, Circuit Cellar Magazine #380, March 2022, pp 18-23 \n",
    "- Build a Maze Generator and Game: Using a PIC32 MCU, By Kyle Infantino, Jack Brzozowski and Dilan Lakhani, Circuit Cellar Magazine #379, Feb 2022, pp 18-24 "
   ]
  },
  {
   "cell_type": "markdown",
   "metadata": {},
   "source": [
    "***"
   ]
  }
 ],
 "metadata": {
  "kernelspec": {
   "display_name": "Python 3",
   "language": "python",
   "name": "python3"
  },
  "language_info": {
   "codemirror_mode": {
    "name": "ipython",
    "version": 3
   },
   "file_extension": ".py",
   "mimetype": "text/x-python",
   "name": "python",
   "nbconvert_exporter": "python",
   "pygments_lexer": "ipython3",
   "version": "3.8.3"
  }
 },
 "nbformat": 4,
 "nbformat_minor": 4
}
