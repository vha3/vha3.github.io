{
 "cells": [
  {
   "cell_type": "markdown",
   "metadata": {},
   "source": [
    "# Articles/Media"
   ]
  },
  {
   "cell_type": "markdown",
   "metadata": {},
   "source": [
    "###### V. Hunter Adams (vha3@cornell.edu)"
   ]
  },
  {
   "cell_type": "markdown",
   "metadata": {},
   "source": [
    "#### About my work\n",
    "1. [A love letter to embedded systems by V. Hunter Adams](https://hackaday.com/2025/05/28/a-love-letter-to-embedded-systems-by-v-hunter-adams/). Also discussed in Hackaday's weekly podcast. The embedded video below links directly to the start of the conversation.<br>\n",
    "<iframe width=\"560\" height=\"315\" src=\"https://www.youtube.com/embed/i9hyOjgHeuw?si=N5fGKbOjAP6aK7CX&amp;start=380\" title=\"YouTube video player\" frameborder=\"0\" allow=\"accelerometer; autoplay; clipboard-write; encrypted-media; gyroscope; picture-in-picture; web-share\" referrerpolicy=\"strict-origin-when-cross-origin\" allowfullscreen></iframe><br>\n",
    "1. [This Bluetooth GATT Course is a Must Watch](https://hackaday.com/2024/10/04/this-bluetooth-gatt-course-is-a-must-watch/)\n",
    "1. [RP2040 bootloader is a worm](https://hackaday.com/2024/03/17/rp2040-boot-loader-is-a-worm/)\n",
    "1. [44 student teams were given RP2040s to create anything. Here's what they made](https://www.ece.cornell.edu/news/44-student-teams-were-given-rp2040s-create-anything-heres-what-they-made)\n",
    "1. [What did computer engineering students at Cornell make with RP2040 last term?](https://www.raspberrypi.com/news/what-did-computer-engineering-students-at-cornell-make-with-rp2040-last-term/)\n",
    "1. [Cornell updates their MCU course for the RP2040](https://hackaday.com/tag/hunter-adams/)\n",
    "1. [Cornell University’s Digital Systems Design course is taught on RP2040](https://www.raspberrypi.com/news/cornell-universitys-digital-systems-design-course-is-taught-on-rp2040/)\n",
    "1. [No rockets needed: A massive launch for tiny spacecraft](https://news.cornell.edu/stories/2022/10/no-rockets-needed-massive-launch-tiny-spacecraft)\n",
    "1. [Awards honor excellence in engineering teaching and advising](https://www.engineering.cornell.edu/news/awards-honor-excellence-engineering-teaching-and-advising)\n",
    "1. [Building Bio-Inspired Prototypes with Personality](https://www.ece.cornell.edu/spotlights/building-bio-inspired-prototypes-personality)\n",
    "1. [Unforgettable Pivots](https://www.unyicorps.org/unforgettable-pivots-part-3/)\n",
    "2. [Space Satellites Also Good for Grapes](http://www.goodfruit.com/space-satellites-also-good-for-grapes/)\n",
    "3. [Chipsats--Hoards of Tiny Circuit Boards Sent to Space (or Attached to Cows)](https://www.allaboutcircuits.com/news/chipsats-hoards-of-tiny-circuit-boards-sent-to-space-or-attached-on-cows/)\n",
    "4. [Cedar Crest Alumnus Building Micro-Satellites with Potential to Change Space Data Collection](https://lebtown.com/2019/11/19/cedar-crest-alumnus-building-micro-satellites-with-potential-to-change-space-data-collection/)\n",
    "5. [Monarch Satellites Open New Frontier in Crop Monitoring](https://www.farmprogress.com/technology/monarch-satellites-open-new-frontier-crop-monitoring)\n",
    "6. [Micro-Satellites Offer a Fresh View of NYS Agriculture](https://news.cornell.edu/stories/2019/10/micro-satellites-offer-fresh-view-nys-agriculture)\n",
    "7. [PhD Profile: Hunter Adams](https://www.engineering.cornell.edu/spotlights/phd-profile-hunter-adams)\n",
    "8. [Student Focus -- Viticulture and Enology](https://grapesandwine.cals.cornell.edu/newsletters/appellation-cornell/2019-newsletters/issue-38-august-2019/student-focus/)"
   ]
  },
  {
   "cell_type": "markdown",
   "metadata": {},
   "source": [
    "#### Including my work\n",
    "1. [*Space: The New Frontier* (IMAX movie, links to trailer)](https://www.youtube.com/watch?v=9Ri9FIePCtY)\n",
    "<figure>\n",
    "    <img align=\"center\" width=\"200\" height=\"500\" src=\"poster.jpeg\" alt='missing' />\n",
    "    <center><figcaption></figcaption></center>\n",
    "</figure><br><br>\n",
    "2. [Spinlaunch promotional video](https://www.youtube.com/watch?v=M_50TM3OeEw&t=25s)<br><br>\n",
    "<iframe width=\"560\" height=\"315\" src=\"https://www.youtube.com/embed/M_50TM3OeEw?si=JImrj7ZJxSu3WuVo\" title=\"YouTube video player\" frameborder=\"0\" allow=\"accelerometer; autoplay; clipboard-write; encrypted-media; gyroscope; picture-in-picture; web-share\" referrerpolicy=\"strict-origin-when-cross-origin\" allowfullscreen></iframe><br><br>\n",
    "1. [NASA Tests Giagantic Slingshot for Hurling Objects Into Space](https://gizmodo.com/nasa-tests-gigantic-slingshot-for-hurling-objects-into-1849613379)\n",
    "1. [Drones, Sensors, Satellites and Cameras: New Tools for Managing a Vineyard](https://www.winebusiness.com/news/?go=getArticle&dataId=217707)\n",
    "2. [Viticulture goes Digital with Symposium and Tour](https://www.growingproduce.com/fruits/viticulture-goes-digital-with-symposium-and-tour/)\n",
    "3. [GLEE Mission](https://www.glee2023.org/mission)\n",
    "4. [TEDx Talks: Mason Peck on How to Build Your Own Spacecraft](https://www.youtube.com/watch?v=iapEm2XvUrY)\n",
    "5. [Commercialization Fellows Explore Market for Inventions](https://news.cornell.edu/stories/2018/06/commercialization-fellows-explore-market-inventions)"
   ]
  },
  {
   "cell_type": "markdown",
   "metadata": {},
   "source": [
    "#### About projects that I contributed to\n",
    "1. [Grow as you go: 'Peecycling' helps plants and compost thrive](https://news.cornell.edu/stories/2024/05/grow-you-go-peecycling-helps-plants-and-compost-thrive)\n",
    "1. [Cross-college researchers unravel mummy bird mystery](https://news.cornell.edu/stories/2022/04/cross-college-researchers-unravel-mummy-bird-mystery)\n",
    "2. [Mummified bird could unlock new ways to experience museum exhibits](https://www.cnn.com/2022/05/01/world/mummified-bird-cornell-museum-exhibit-scn/index.html)\n",
    "3. [Ancient Egyptian mummy forgotten in storage turns out to be sacred bird often sacrificed to Thoth](https://www.livescience.com/ancient-egypt-ibis-bird-mummy)"
   ]
  },
  {
   "cell_type": "markdown",
   "metadata": {},
   "source": [
    "***"
   ]
  }
 ],
 "metadata": {
  "kernelspec": {
   "display_name": "Python 3",
   "language": "python",
   "name": "python3"
  },
  "language_info": {
   "codemirror_mode": {
    "name": "ipython",
    "version": 3
   },
   "file_extension": ".py",
   "mimetype": "text/x-python",
   "name": "python",
   "nbconvert_exporter": "python",
   "pygments_lexer": "ipython3",
   "version": "3.8.3"
  }
 },
 "nbformat": 4,
 "nbformat_minor": 4
}
