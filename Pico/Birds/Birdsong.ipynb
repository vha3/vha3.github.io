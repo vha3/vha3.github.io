{
 "cells": [
  {
   "cell_type": "markdown",
   "metadata": {},
   "source": [
    "# Synthesizing Birdsong with the RP2040"
   ]
  },
  {
   "cell_type": "markdown",
   "metadata": {},
   "source": [
    "#### [V. Hunter Adams](https://vanhunteradams.com) (vha3@cornell.edu)\n",
    "\n",
    "- [Fall, 2021 version](./Birdsong_keypad.html)\n",
    "- [Spring, 2021 version](./Birdsong_serial.html)"
   ]
  },
  {
   "cell_type": "markdown",
   "metadata": {},
   "source": [
    "***"
   ]
  },
  {
   "cell_type": "markdown",
   "metadata": {},
   "source": [
    "## Introduction\n",
    "\n",
    "In this laboratory exercise, you will synthesize one of the most common songs of the [northern cardinal](https://www.allaboutbirds.org/guide/Northern_Cardinal), a very pretty (and rather vocal) bird that's common in Ithaca. You can listen to this song in the first ten seconds of the recording [linked here](https://macaulaylibrary.org/asset/130905?__hstc=75100365.b8a8ce99cbef50e187883000d2a8e38b.1601856173825.1602249083165.1603396221676.6&__hssc=75100365.1.1603396221676&__hsfp=2840701297#_ga=2.15404978.520534262.1603396221-116006615.1601856172). Your goal will be to generate a synthesizer that is accurate enough to trick Cornell Ornithology's [Merlin Bird ID App](https://merlin.allaboutbirds.org).\n",
    "\n",
    "<br>\n",
    "<figure>\n",
    "    <img align=\"center\" width=\"40%\" height=\"200\" src=\"cardinal.jpg\" alt='missing' />\n",
    "    <center><figcaption>Fig 1: A Northern Cardinal</figcaption>\n",
    "</figure>\n",
    "    \n",
    "Fig. 2 shows the [spectrogram](https://en.wikipedia.org/wiki/Spectrogram) for the song that we'll be synthesizing (5730 students will also synthesize an *additional* song, described at the bottom of this webpage). Cardinals and many other songbirds produce almost pure frequency-modulated tones (i.e., they whistle!). As can be seen in the spectrogram below, the cardinal sweeps through frequencies from ~2kHz to ~7kHz. We'll assume that the dominant tones  (the darkest lines on the spectrogram) are significantly louder than all other frequencies (the lighter lines). We'll only synthesize these loudest frequencies. The generated song sounds quite realistic under this assumption, as demonstrated in the embedded video farther down the webpage. Your synthesizer will be controlled via a keypad.\n",
    "\n",
    "<br>\n",
    "\n",
    "<figure>\n",
    "    <img align=\"center\" width=\"100%\" height=\"200\" src=\"spectrogram.png\" alt='missing' />\n",
    "    <center><figcaption>Fig 2: Spectrogram for a cardinal song</figcaption>\n",
    "</figure>\n",
    "    \n",
    "There will be a number of interesting outcomes from this laboratory exercise. You'll gain familiarity with all of the key concepts listed below, but you may also notice that something strange occurs in your own brain! After gaining such an intimate understanding the cardinal's song, you may find that you *notice birds singing* after completing this lab! It's really nice when an engineering project changes the way that you see and appreciate the world around you, I hope that occurs for some of you.\n",
    "    \n",
    "If you'd like to take things farther, you can also synthesize songs for other, more challenging birds like the [Baltimore oriole](https://macaulaylibrary.org/asset/93753?__hstc=75100365.4af4b5ec7660d0673dacf4700155172a.1603723056763.1603723056763.1603723056763.1&__hssc=75100365.1.1603723056764&__hsfp=3874643835#_ga=2.88178002.855674868.1603723056-1513990777.1603723055). (If you're lucky, you can spot these in Ithaca too. They're gorgeous and have a very distinctive song). If you're feeling really ambitious, do additive synthesis to generate a [Bobolink](https://macaulaylibrary.org/asset/580562881) (might make a good final project!).\n",
    "    \n",
    "**Key concepts**: Timers, timer interrupts, Direct Digital Synthesis, SPI communication, GPIO, threading/concurrency, digital-to-analog converters, fixed-point arithmetic, keypads, debouncing, curve fitting, numeric integration, code characterization"
   ]
  },
  {
   "cell_type": "markdown",
   "metadata": {},
   "source": [
    "***"
   ]
  },
  {
   "cell_type": "markdown",
   "metadata": {},
   "source": [
    "## Demonstration\n",
    "\n",
    "I've embedded a demo below of the system that you will build."
   ]
  },
  {
   "cell_type": "markdown",
   "metadata": {},
   "source": [
    "<iframe width=\"560\" height=\"315\" src=\"https://www.youtube.com/embed/bEWip7StmZk\" title=\"YouTube video player\" frameborder=\"0\" allow=\"accelerometer; autoplay; clipboard-write; encrypted-media; gyroscope; picture-in-picture; web-share\" allowfullscreen></iframe>"
   ]
  },
  {
   "cell_type": "markdown",
   "metadata": {},
   "source": [
    "***"
   ]
  },
  {
   "cell_type": "markdown",
   "metadata": {},
   "source": [
    "## Required reading\n",
    "\n",
    "Experience shows that students prefer these webpages short. For that reason, please find the reading and background materials on the webpages linked below. *Please note that the information in these readings will be critical for completing the lab.*\n",
    "\n",
    "### Course information\n",
    "> - [**Policy page**](https://vanhunteradams.com/Pico/CourseMaterials/Policy.html): This page describes the structure and format of the course, course expectations, and grading policies.\n",
    "> - [**Course demo code**](https://github.com/vha3/Hunter-Adams-RP2040-Demos): Familiarize yourself with the layout of this repository, and the examples that it contains.\n",
    "\n",
    "### Engineering background\n",
    "\n",
    "> - [**Building demo code**](https://vanhunteradams.com/Pico/CourseMaterials/Building_Demos.html): This webpage describes how to download and build the course demo code.\n",
    "> - [**C/C++ SDK architecture for RP2040**](https://vanhunteradams.com/Pico/Setup/SDKArchitecture.html): This webpage describes the organization of the C SDK.\n",
    "> - [**Using the C SDK**](https://vanhunteradams.com/Pico/Setup/UsingPicoSDK.html): This webpage provides a brief *practical* introduction to the C SDK by means of a simple example.\n",
    "> - [**Audio examples of incremental complexity**](https://github.com/vha3/Hunter-Adams-RP2040-Demos/tree/master/Audio): In this lab, as in all labs, you are provided with demo code from which to start your assignment. This repository contains a sequence of example projects which incrementally build to the demo code from which you should start your assignment. The documentation for each of these examples is meant to be read in order.\n",
    "> - [**Keypad**](https://vanhunteradams.com/Pico/Keypad/Keypad.html): Your birdsong synthesizer will be cotrolled via a keypad. Please see this page for examples of and information about the  keypad that we will be using, and clues about a debouncing state machine.\n",
    "> - [**SPI Communication**](https://vanhunteradams.com/Protocols/SPI/SPI.html): The digital-to-analog converter that we are using is an SPI device. This webpage describes SPI communication. Understanding these concepts will make configuring the SPI channel on the RP2040 much easier.\n",
    "> - [**RP2040 Datasheet**](https://datasheets.raspberrypi.com/rp2040/rp2040-datasheet.pdf): Sections on GPIO, SPI, Timer, and UART\n",
    "> - [**C SDK hardware API**](https://www.raspberrypi.com/documentation/pico-sdk/hardware.html): Same sections as above\n",
    "> - [**DAC datasheet**](./DAC.pdf): Datasheet for the MCP4822 12-bit DAC that we'll be using in this lab.\n",
    "\n",
    "### Mathematical & algorithmic background\n",
    "\n",
    "> - [**Direct digital synthesis (DDS)**](https://vanhunteradams.com/DDS/DDS.html): This is the algorithm that we will use for sound production. *This is a powerful algorithm*, a good one to understand deeply.\n",
    "> - [**Birdsong synthesis via DDS**](./Birdsong_synthesis.html): This webpage deconstructs the Northern cardinal's song, and synthesizes it via DDS.\n",
    "\n",
    "### Related reading\n",
    "\n",
    "> - [**How and why birds sing**](https://academy.allaboutbirds.org/birdsong/): A Cornell Ornithology webpage about birdsong.\n",
    "> - [**More information about Northern Cardinals**](https://www.allaboutbirds.org/guide/Northern_Cardinal#): A Cornell Ornithology webpage about cardinals.\n",
    "> - [**Fast Fourier Transform**](https://vanhunteradams.com/FFT/FFT.html): How does Merlin generate those spectrograms? It does so by computing FFT's! This webpage describes the Cooley-Tukey FFT.\n",
    "\n",
    "### Optional book-club reading\n",
    "> - [**Leonardo da Vinci** by Walter Isaacson](https://www.amazon.com/Leonardo-Vinci-Walter-Isaacson/dp/1501139150): Chapters 1-11"
   ]
  },
  {
   "cell_type": "markdown",
   "metadata": {},
   "source": [
    "***"
   ]
  },
  {
   "cell_type": "markdown",
   "metadata": {},
   "source": [
    "## Weekly Checkpoints\n",
    "\n",
    "Note that these checkpoints are **cumulative.** In week 2, for example, you must have also completed all of the requirements from week 1.\n",
    "\n",
    "#### Homework before week 1\n",
    "- Using [this webpage](https://vanhunteradams.com/Pico/CourseMaterials/Building_Demos.html) as a guide, download and build the course demo code on a laboratory PC\n",
    "- Read the [course policy page](https://vanhunteradams.com/Pico/CourseMaterials/Policy.html). If you have any questions, ask Hunter! This is the implicit contract to which you are agreeing by taking this course, now's the time to seek any clarification you may require.\n",
    "\n",
    "#### Week 1\n",
    "\n",
    "- In [**this example code**](https://github.com/vha3/Hunter-Adams-RP2040-Demos/tree/master/Audio/c_Audio_Beep_Synthesis_Single_Core), direct digital synthesis is used to generate a pure sine wave \"beep\". Connect the DAC to the Pico per the `#define` statements at the top of the source code and the [DAC datasheet](./DAC.pdf), build the code, and load it onto the Pico. Please note that different manufacturers use different names for SPI signals! Here are the correct connections:\n",
    "> `3.3V(OUT)` --> `VDD`<br>\n",
    "> `GND` --> `VSS`<br>\n",
    "> `PIN_CS` --> $\\overline{\\text{CS}}$<br>\n",
    "> `PIN_SCK` --> `SCK`<br>\n",
    "> `PIN_MOSI` --> `SDI`<br>\n",
    "> `LDAC` --> $\\overline{\\text{LDAC}}$\n",
    "\n",
    "- Confirm that the waveforms are being generated by the DAC with the oscilloscope, then use a [3.5 mm audio socket](https://www.cuidevices.com/product/resource/sj1-355xng.pdf) so that you can plug in speakers and listen to the generated beeps.\n",
    "- Modify the code such that the waveform is sent to the *other* DAC output channel.\n",
    "- Add the `bootsel` button to your breadboard, as described on [this webpage](https://people.ece.cornell.edu/land/courses/ece4760/RP2040/hardware/index_pgm_button.html)\n",
    "\n",
    "#### Week 2\n",
    "\n",
    "- Use the [**keypad webpage**](https://vanhunteradams.com/Pico/Keypad/Keypad.html) to connect the keypad to the Pico. Use the [**keypad example code**](https://github.com/vha3/Hunter-Adams-RP2040-Demos/tree/master/Human_Input/Keypad) to confirm that your connections are correct.\n",
    "- Integrate the [**keypad example code**](https://github.com/vha3/Hunter-Adams-RP2040-Demos/tree/master/Human_Input/Keypad) with the [**beep beep demo code**](https://github.com/vha3/Hunter-Adams-RP2040-Demos/tree/master/Audio/c_Audio_Beep_Synthesis_Single_Core) from last week. Have the program produce a single beep each time you press a key (requires debouncing).\n",
    "- Modify the program such that it produces exactly one swoop sound each time you press the 1 key, and one chirp sound each time you press the 2 key. These sounds should be amplitude modulated so that there are no audio artifacts (clicks, pops, etc.).\n",
    "- The program should set a GPIO pin when it enters the synthesis ISR, and clear the GPIO pin when it leaves the synthesis ISR. Use the oscilloscope to measure the time that you are spending in the ISR. How can you make it faster? Why are some sounds faster than others?\n",
    "- *Finishing a checkpoint does NOT mean you can leave lab early!*\n",
    "\n",
    "\n",
    "#### Week 3 (4760)\n",
    "\n",
    "*Write a C program that meets the following requirements . . .*\n",
    "- The program has two modes: *play mode* and *record mode*. The system boots into *play mode*, in which it plays the swoop sound when the 1 key is pressed and the chirp sound when the 2 key is pressed. Each sound will play for 130ms, exactly once, independent of the duration of the button push. There should be no clicks, pops, or other audio artifacts.\n",
    "- By pressing a separate key on the keypad, or an external button, or toggling an external switch, the user places the device into *record mode*. In *record mode*, the device remembers the sequence of inputs that the user specifies. When the user transitions from *record mode* back to *play mode*, the device plays back the recorded sequence with the correct timing.\n",
    "- The program should set a GPIO pin when it enters the synthesis ISR, and clear the GPIO pin when it leaves the synthesis ISR. Use the oscilloscope to measure the time that you are spending in the ISR.\n",
    "\n",
    "When you demonstrate the program to Hunter or a TA, you will be asked to play back a sequence of sounds which simulates the birdsong in Fig. 2. If you're able to trick the Merlin App, you will earn a handshake. You will also be asked to play back a random sequence of swoops/chirps/silences that Hunter or the TA uses the keypad to generate. **At no time during the demo can you reset or reprogram the RP2040.** *Finishing a checkpoint does NOT mean you can leave lab early!*\n",
    "\n",
    "#### Week 3 (5730)\n",
    "\n",
    "*In addition to the above requirements for 4760, 5730 students should also . . .*\n",
    "\n",
    "- Synthesize *another* Northern Cardinal song, shown in Fig. 3. You may deconstruct this song into 4 sound primitives, as illustrated in that figure's annotations. Fit these frequency sweeps to functions using similar analysis to that shown at the top of this document.\n",
    "- Each of these 4 sound primitives should be mapped to 4 additional keys on the keypad.\n",
    "- You may fit to any function that you like. 2 linear function and a parabolic or sine curve sound nice.\n",
    "\n",
    "When you demonstrate the program to Hunter or a TA, you will be asked to play back a sequence of sounds which simulates the birdsongs in Fig. 2 and Fig. 3. If you're able to trick the Merlin App, you will earn a handshake. You will also be asked to play back a random sequence of swoops/chirps/silences that Hunter or the TA uses the keypad to generate. **At no time during the demo can you reset or reprogram the RP2040.** *Finishing a checkpoint does NOT mean you can leave lab early!*"
   ]
  },
  {
   "cell_type": "markdown",
   "metadata": {},
   "source": [
    "<figure>\n",
    "    <img align=\"center\" width=\"100%\" height=\"200\" src=\"Down_annotated.png\" alt='missing' />\n",
    "    <center><figcaption>Fig 3: Spectrogram for an additional cardinal song (5730 students only)</figcaption>\n",
    "</figure>"
   ]
  },
  {
   "cell_type": "markdown",
   "metadata": {},
   "source": [
    "***"
   ]
  },
  {
   "cell_type": "markdown",
   "metadata": {},
   "source": [
    "## Lab report\n",
    "\n",
    "Your written lab report should include the sections mentioned in the [policy page](https://vanhunteradams.com/Pico/CourseMaterials/Policy.html), and:\n",
    "\n",
    "- A scope display of a swoop/chirp birdcall showing rise, sustain, fall\n",
    "- A table which shows the time spent in the ISR for *each* of your sound primitives. Please comment on the differences among these times, any optimizations that you implemented to improve this speed, and any additional optimizations that you could have implemented with more time.\n",
    "- **A spectrogram of the sound produced by your MCU.** You can generate this anyway you like. You could plug the DAC output into the mic input of your laptop via an aux cable, and then generate a spectrogram in Python. You could alternatively use some software on the lab PC to generate a spectrogram (WaveForms). Or you can use the Merlin app.\n",
    "- A heavily commented listing of your code"
   ]
  },
  {
   "cell_type": "markdown",
   "metadata": {},
   "source": [
    "***"
   ]
  }
 ],
 "metadata": {
  "kernelspec": {
   "display_name": "Python 3",
   "language": "python",
   "name": "python3"
  },
  "language_info": {
   "codemirror_mode": {
    "name": "ipython",
    "version": 3
   },
   "file_extension": ".py",
   "mimetype": "text/x-python",
   "name": "python",
   "nbconvert_exporter": "python",
   "pygments_lexer": "ipython3",
   "version": "3.8.3"
  }
 },
 "nbformat": 4,
 "nbformat_minor": 4
}
