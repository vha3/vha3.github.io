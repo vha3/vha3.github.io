{
 "cells": [
  {
   "cell_type": "markdown",
   "metadata": {},
   "source": [
    "# Overview and Policy for ECE 4760 at Cornell University\n",
    "\n",
    "Please note that I have borrowed these policies from Bruce Land, and they are largely identical to those provided on the [previous course webpage](https://people.ece.cornell.edu/land/courses/ece4760/EE4760_policy.html). Please also see the [online syllabus](./Syllabus.pdf) for the course.\n",
    "\n",
    "> - [Prerequisities](#Prerequisites)\n",
    "> - [Reading](#Reading)\n",
    "> - [Purpose](#Purpose)\n",
    "> - [Grading](#Grading)\n",
    "> > - [The policy](#The-policy)\n",
    "> > - [Reflecting on this policy](#Reflecting-on-this-policy)\n",
    "> - [Laboratory policies](#Laboratory-policies)\n",
    "> - [AI policies](#AI-policies)\n",
    "> - [Laboratory reports](#Laboratory-reports)\n",
    "> - [Access to computers](#Access-to-computers)\n",
    "> - [Academic concerns](#Academic-concerns)"
   ]
  },
  {
   "cell_type": "markdown",
   "metadata": {},
   "source": [
    "***"
   ]
  },
  {
   "cell_type": "markdown",
   "metadata": {},
   "source": [
    "## Prerequisites\n",
    "- ECE 3140, or permission of instructor\n",
    "- You need to know C programming, electronic construction, and a fair amount of math for this course\n",
    "- When in doubt, talk to the instructor"
   ]
  },
  {
   "cell_type": "markdown",
   "metadata": {},
   "source": [
    "***"
   ]
  },
  {
   "cell_type": "markdown",
   "metadata": {},
   "source": [
    "## Reading\n",
    "- Labs will be based on webpages, RP2040 documentation, and documentation from a variety of other sensors and peripherals\n",
    "- We expect for you to become *completely familiar* with detailed MCU information from Raspberry Pi"
   ]
  },
  {
   "cell_type": "markdown",
   "metadata": {},
   "source": [
    "***"
   ]
  },
  {
   "cell_type": "markdown",
   "metadata": {},
   "source": [
    "## Purpose\n",
    "\n",
    "The purpose of this course is to enable students to carry out sophisticated designs of the modern digital systems which now appear in products such as automobiles, appliances, and industrial tools. The basis of such systems is the microcontroller, a microcomputer optimized for single-chip system design by possessing many peripheral devices geared to real-time applications. The microcontroller we will use is the RP2040 from Raspberry Pi. There is a large design project which is due the last week of classes. There will considerable emphasis on hardware concurrency: Getting good performance by using all of the concurrently executing co-processors available on the microcontroller chip, including: DMA, timers, SPI, UART, ADC subsystem, PIO, I2C and others.\n",
    "\n",
    "***This is a design course.*** This means that we will expect you to show considerable creativity, flexibility, and motivation. In particular, you will need to:\n",
    "\n",
    "- Hit the web to find your own answers to questions you have.\n",
    "- Read and understand every aspect of manufacturer's data sheets for a variety of devices.\n",
    "- Read class-related email daily. You are responsible for any course information communicated by email.\n",
    "- Use material from many of the courses you have taken at Cornell. Topics from ECE 2100, 3010, 3020, 3100, 3140, 4450, or 4750 may be useful in this course, particularly depending on the final project you choose.\n",
    "- ***Find solutions on your own from incomplete specifications.*** The lab assignments become more open-ended as the semester progresses. Clever, efficient solutions will be rewarded.\n",
    "\n",
    "We are trying to make this a little like the real world."
   ]
  },
  {
   "cell_type": "markdown",
   "metadata": {},
   "source": [
    "***"
   ]
  },
  {
   "cell_type": "markdown",
   "metadata": {},
   "source": [
    "## Grading\n",
    "\n",
    "#### The policy\n",
    "\n",
    "This class is composed of laboratory assignments and a final project. You will be graded on these tasks, plus some consideration of class participation. The final design project demonstration is due the *last week of classes*. The grade breakdown is as follows:\n",
    "\n",
    "- **50% for laboratory assignments**\n",
    "> For *each* laboratory assignment:<br><br>\n",
    "> - 10% for preparedness and participation\n",
    "> > - As determined by conversations with Hunter in the laboratory, lecture attendance, and occasional in-lecture quizzes.\n",
    "> > - These should be easy points, just come to class!\n",
    "> - 20% for weekly progress deadlines (evenly distributed across all weeks for a particular lab)\n",
    "> > - To make these deadlines, you *must come to lab prepared*. If you do not do any out-of-class preparations, you will not be able to meet these deadlines.\n",
    "> > - Finishing a checkpoint on time will earn the student a 95% (A-equivalent). Finishing early will earn the student >95% (exceeds expectations). Missing milestones earns a 0.\n",
    "> > - If you checkoff on the required progress deadline before the end of lab, you are expected to stay and work on the next checkpoint.\n",
    "> > - **A late progress checkoff receives a zero grade.**\n",
    "> - 30% for the final laboratory demonstration\n",
    "> > - The system must meet specifications and be usable.\n",
    "> > - Lab demos to TAs will be done before the **end** of each lab exercise, in lab.\n",
    "> > - There will be ***no late final demonstrations for any lab***. This policy is to prevent any students from falling behind on subsequent lab exercises.\n",
    "> > - Your final demo may or may not include a code review to test for understanding.\n",
    "> > - **A late demo receives a zero grade.** If you run out of time, demonstrate the parts of the system that you've gotten working. These final demos are graded on the following scale:\n",
    "\n",
    "| Technical specifications met | Score | Comments |\n",
    "| :--- | ---: | ---: |\n",
    "| < Week 1 checkoff | 0 |  |\n",
    "| = Week 1 checkoff | 50% | |\n",
    "| <= Week 2 checkoff | 50-75% | Directly proportional to number of<br> specifications met, weighted by <br>relative difficulty of those specifications\n",
    "| <= Week 3 checkoff | 75-96% | Directly proportional to number of<br> specifications met, weighted by <br>relative difficulty of those specifications\n",
    "| > Week 3 checkoff | 96-100% | Students that exceed expectations<br> on a laboratory assignment will<br> receive A+ equivalent scores\n",
    "\n",
    "- \n",
    "> - 40% for the laboratory report\n",
    "> > - Lab reports are due *before the start* of your next lab period.\n",
    "> > - Please see the [Laboratory reports](#Laboratory-reports) section of this webpage for information on content.\n",
    "> > - All submissions will be electronic to your TA, via Canvas\n",
    "> > - You must attend your weekly scheduled lab period, even if you have finished the lab assignment early!\n",
    "> > - No late assignments will be accepted without prior permission (excepting reasonable extenuating circumstances)\n",
    "> > - You will turn in one lab report per team. No written collaborations between groups is permitted. You are (of course!) encouraged to help anyone in lab.\n",
    "> > - For some information about how these reports are graded, please see [here](./LabReportGrade.html).\n",
    "> > - **A late report receives a zero grade**.\n",
    "- **50% for the final project**\n",
    "> This is further broken down similarly to the laboratory assignments:<br><br>\n",
    "> - 10% for preparedness and participation\n",
    "> > - As determined by conversations with Hunter in the laboratory, lecture attendance, and occasional in-lecture quizzes.\n",
    "> > - These should be easy points, just come to class!\n",
    "> - 20% for weekly progress deadlines (evenly distributed across all weeks of the final project)\n",
    "> > - For the final project **you** are responsible for establishing these weekly milestones.\n",
    "> > - Meeting milestones on time will earn the student a 95% (A-equivalent). Finishing early will earn the student >95% (exceeds expectations). Missing milestones earns a 0.\n",
    "> > - You will report your progress to me in a weekly update (which may be either written or verbal)\n",
    "> > - **A late progress checkoff receives a zero grade.**\n",
    "> > - **NOTE**: I know that plans change, and that sometimes things are harder than you think they might be!! As long as you are communicating with me and working at a reasonable rate, your grade will not be adversely affected by changes of plan.\n",
    "> - 30% for the final laboratory demonstration\n",
    "> > - The system must meet the specifications that you set at the beginning of the project (i.e., did you build what you said you were going to build?)\n",
    "> > - The system must be usable.\n",
    "> > - Your final demo may or may not include a code review to test for understanding.\n",
    "> > - For the final project, your demo will also be evaluated on its sophistication *relative to other final projects*. This is to prevent gaming the system by choosing an easy project.\n",
    "> - 40% for the final report\n",
    "> > - Please see [this webpage](https://vanhunteradams.com/Pico/CourseMaterials/Final_Project.html#Final-Report) for information on content.\n",
    "> > - For some information about how these reports are graded, please see [here](./LabReportGrade.html).\n",
    "> > - You will create a webpage for your final project.\n",
    "\n",
    "\n",
    "Hunter reserves the right to make small adjustments to your grade. You may help your grade by participating in class discussions. Excessive nonattendance of lecture may lower your grade. If you feel that you have been unfairly graded, you have one week from the time the assignment is handed back to request a regrade. To request a regrade, you must submit the assignment with a written description of your concern attached to the instructor (not the TA).\n",
    "\n",
    "#### Reflecting on this policy\n",
    "Building things is difficult, and sometimes unpredictable. It may be the case that you don't make a weekly checkpoint. This can sometimes cause students to panic, and sometimes doing the math to determine how much of your final grade each component of the course is worth can alleviate that panic. The contribution to your final grade (as a percentage) of each assignment and checkout is listed below.\n",
    "\n",
    ">**Lab 1**\n",
    "> - Preparedness/participation: 1.7\n",
    "> - Checkout 1: 1.1\n",
    "> - Checkout 2: 1.1\n",
    "> - Checkout 3: 1.1\n",
    "> - Final demo: 5\n",
    "> - Lab report: 6.7\n",
    "\n",
    ">**Lab 2**\n",
    "> - Preparedness/participation: 1.7\n",
    "> - Checkout 1: 1.1\n",
    "> - Checkout 2: 1.1\n",
    "> - Checkout 3: 1.1\n",
    "> - Final demo: 5\n",
    "> - Lab report: 6.7\n",
    "\n",
    ">**Lab 3**\n",
    "> - Preparedness/participation: 1.7\n",
    "> - Checkout 1: 1.1\n",
    "> - Checkout 2: 1.1\n",
    "> - Checkout 3: 1.1\n",
    "> - Final demo: 5\n",
    "> - Lab report: 6.7\n",
    "\n",
    ">**Final Project**\n",
    "> - Preparedness/participation: 5\n",
    "> - Weekly progress: 10\n",
    "> - Final demo: 15\n",
    "> - Final report: 20"
   ]
  },
  {
   "cell_type": "markdown",
   "metadata": {},
   "source": [
    "***"
   ]
  },
  {
   "cell_type": "markdown",
   "metadata": {},
   "source": [
    "## Laboratory policies\n",
    "\n",
    "You are expected to attend your assigned lab period every week and to finish the lab assignment in the alloted time. **You must finish the assignment before the end of the alloted time, or you will lose up to 50% of your lab grade.** You can, of course, start early on an assignment. All negotiations concerning lab absences due to planned trips or sickness are to be conducted with your lab instructor. For planned trips you must notify your instructor in advance.\n",
    "\n",
    "During the lab sections in which there is project checkoff:\n",
    "- TAs first priority is to check people off.\n",
    "- TAs can help people only if there is no one waiting to be checked off.\n",
    "- If there are too many people to help, then the TAs will help students in the current section who are trying to finish on time.\n",
    "- Only then will there be time to help people from other sections.\n",
    "\n",
    "Lab work will be in groups of 2 or 3. All members are expected to become proficient with all aspects of the lab. Where each has prepared design work or code assigned as homework, the group design will involve negotiation. The members of a group may be graded differentially if it becomes obvious that one person is doing the bulk of the work.\n",
    "\n",
    "Each student in this course is expected to abide by the [Cornell University Code of Academic Integrity](http://cuinfo.cornell.edu/aic.cfm). \n",
    "\n",
    "Any work submitted by a student in this course for academic credit will be the student's own work. For this course, collaboration is allowed between partners in a group. Students agree that by taking this course all required papers may be subject to submission for textual similarity review to Turnitin.com for the detection of plagiarism. All submitted papers will be included as source documents in the Turnitin.com reference database solely for the purpose of detecting plagiarism of such papers. Use of Turnitin.com service is subject to the Usage Policy posted on the Turnitin.com site. \n",
    "\n",
    "Examples of allowed/not allowed collaboration:\n",
    "\n",
    "- **Allowed**: All homework and code must be shared within a group. \n",
    "- **Not Allowed** Sharing of any material between groups. This includes unprotected GitHub or other code repositories. Unprotected code online will be considered a violation of Cornell academic integrity policy!\n",
    "\n",
    "\n",
    "- **Allowed**: Talking in lab about code with another group. \n",
    "- **Not Allowed**: Emailing code to another group or using another group's keyboard to type code. \n",
    "\n",
    "\n",
    "- **Allowed**: Showing another group your circuit.\n",
    "- **Not Allowed**: Wiring for another group, or lending them your circuit. \n",
    "\n",
    "\n",
    "- **Allowed**: Talking about the contents of a lab report to another group. \n",
    "- **Not Allowed**: Copying anything (even one sentence) from any web or print document, unless the source is stated and the quote is short. \n",
    "\n",
    "\n",
    "- **Allowed**: Using code from previous final projects or web sources with detailed attribution. \n",
    "- **Not Allowed**: Using code from previous final projects or web sources without attribution.\n",
    "\n",
    "All students will abide by Cornell policy on [Equal Education and Employment Opportunity](https://hr.cornell.edu/our-culture-diversity/diversity-inclusion/equal-opportunity-and-affirmative-action/equal-education). Exerpt:\n",
    "\n",
    "> Association with Cornell, either as a student, faculty, or staff member, involves participation in a free community where all people are recognized and rewarded on the basis of individual performance rather than personal convictions, appearance, preferences (including sexual or affectional orientation), or happenstance of birth. Cornell University's history of diversity and inclusion encourages all students, faculty and staff to support a diverse and inclusive university in which to work, study, teach, research and serve. No person shall be denied admission to any educational program or activity or be denied employment on the basis of any legally prohibited discrimination involving, but not limited to, such factors as race, color, creed, religion, national or ethnic origin, marital status, citizenship, sex, sexual orientation, gender identity or expression, age, disability, or protected veteran status."
   ]
  },
  {
   "cell_type": "markdown",
   "metadata": {},
   "source": [
    "***"
   ]
  },
  {
   "cell_type": "markdown",
   "metadata": {},
   "source": [
    "## AI policies\n",
    "\n",
    "#### For lab reports\n",
    "For your lab reports, you must cite and quote AI-generated content in an identical fashion to that with which you must cite and quote human-generated content. Failure to do so will be considered plagiarism.\n",
    "\n",
    "#### For your code\n",
    "You may use AI-generated code at your own risk, subject to the following requirements and conditions.\n",
    "- Any AI-generated code *must* be clearly labeled as such. Please see the example below. Failure to label any AI-generated code will be considered plagiarism.\n",
    "- The course staff will not help you debug AI-generated code.\n",
    "```c\n",
    "################## BEGIN AI-GENERATED CODE ##################\n",
    "void foo() {\n",
    "    printf(\"Hello, humans.\") ;\n",
    "}\n",
    "################### END AI-GENERATED CODE ###################\n",
    "```\n",
    "- Along with your lab reports, you must turn in your prompt log. You can generate this prompt log with the following command to Copilot:\n",
    "\n",
    "`Generate a prompt log of this conversation. For each prompt, include the time/date, the number of edits suggested, and the number of code insertions, deletions, and modifications accepted.`"
   ]
  },
  {
   "cell_type": "markdown",
   "metadata": {},
   "source": [
    "***"
   ]
  },
  {
   "cell_type": "markdown",
   "metadata": {},
   "source": [
    "## Laboratory reports\n",
    "\n",
    "Each laboratory assignment requires a written report. You will submit a single report for your group. The report should be submitted as an electronic document via Canvas.\n",
    "\n",
    "The report should be a concise documentation of the project assigned. The presentation should be arranged so that any reader with technical competence in the subject can easily understand what was done and how it was done. You should write to a level of detail that, in 2 years, you could recreate your project (and understand the methodology!) using only your report. The following report organization is suggested:\n",
    "\n",
    "1. Introduction: Give a short explanation of what was done.\n",
    "1. Design and Testing Methods: Explain the approach you used for both software and hardware aspects of the assignment. Be sure to include the design of tests whose outcome are convincing to the reader (or to the instructor in the lab) that the requirements of the assignment have been met. **This section should include discussion of your AI use.**\n",
    "1. Documentation: Include here drawings, flowcharts, schematics, and program listings, together with any explanatory comments needed.\n",
    "1. Results: How fast was it? How accurate was it? What were the error ranges?\n",
    "1. Conclusions: Useability, what you might have done differently, etc. Any comments concerning the assignment, including suggestions for improvement, excuses, and complaints.\n",
    "1. Answers to specific questions given in the lab writeups.\n",
    "\n",
    "<!-- Past TA's have [expanded upon the above guidelines](./General_Lab_writeup_Rubric.pdf).\n",
    " -->\n",
    "[Here](./Birdsong.pdf) and [here](./Birdsong2.pdf) (and [here](./cricket.pdf) and [here](./reaction.pdf)) are some well done example reports. Note that these do not include discussion of AI, which is now a requirement."
   ]
  },
  {
   "cell_type": "markdown",
   "metadata": {},
   "source": [
    "***"
   ]
  },
  {
   "cell_type": "markdown",
   "metadata": {},
   "source": [
    "## Access to computers\n",
    "\n",
    "You and your partner(s) will have use of a PC, microcontroller evaluation board, and peripheral breadboard in Phillips 238 during your assigned lab period. Students from other lab periods may use setups not needed by students attending their assigned lab.\n",
    "\n",
    "*Machines and file systems sometimes die. You should always back up all your work. There is no excuse for lost work, even if it is because of a compiler or other system error.*"
   ]
  },
  {
   "cell_type": "markdown",
   "metadata": {},
   "source": [
    "***"
   ]
  },
  {
   "cell_type": "markdown",
   "metadata": {},
   "source": [
    "## Academic concerns\n",
    "\n",
    "If you are experiencing undue personal or academic stress at any time during the semester or need to talk with someone about a personal problem or situation, I encourage you to seek support as soon as possible. I am available to talk with you about stresses related to your work in my class. Additionally, I can assist you in reaching out to any one of a wide range of campus resources, including:\n",
    "\n",
    "- Your college’s Academic Advising or Student Services Office\n",
    "- Cornell Learning Strategies Center at 255-6310, http://lsc.sas.cornell.edu\n",
    "- Gannett Health Services at 255-5155, www.gannett.cornell.edu\n",
    "- Let’s Talk Drop–In Consultation and Support www.gannett.cornell.edu/Let’sTalk\n",
    "- Peer Support provided by Empathy Assistance and Referral Service at 255-EARS\n",
    "\n",
    "DISABILITY-RELATED CONCERNS: Students with either an ongoing or short-term disability are encouraged to contact Student Disability Services (SDS) for a confidential discussion of their need for academic accommodations.SDS is located in 420 CCC building; phone number is 254-4545."
   ]
  },
  {
   "cell_type": "markdown",
   "metadata": {},
   "source": [
    "***"
   ]
  }
 ],
 "metadata": {
  "kernelspec": {
   "display_name": "Python 3",
   "language": "python",
   "name": "python3"
  },
  "language_info": {
   "codemirror_mode": {
    "name": "ipython",
    "version": 3
   },
   "file_extension": ".py",
   "mimetype": "text/x-python",
   "name": "python",
   "nbconvert_exporter": "python",
   "pygments_lexer": "ipython3",
   "version": "3.8.3"
  }
 },
 "nbformat": 4,
 "nbformat_minor": 4
}
