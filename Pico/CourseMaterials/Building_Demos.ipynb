{
 "cells": [
  {
   "cell_type": "markdown",
   "metadata": {},
   "source": [
    "# Building RP2040 Demo Code\n",
    "#### [V. Hunter Adams](https://vanhunteradams.com)"
   ]
  },
  {
   "cell_type": "markdown",
   "metadata": {},
   "source": [
    "***"
   ]
  },
  {
   "cell_type": "markdown",
   "metadata": {},
   "source": [
    "## THE EASY WAY . . .\n",
    "\n",
    "This webpage is for students enrolled in [ECE 4760/5730](https://ece4760.github.io) at Cornell. It walks you through installing the ECE 4760 Visual Studio Code extension, and using that extension to build course demo code.\n",
    "\n",
    "1. Download [VSCode](https://code.visualstudio.com), if you don't already have it on your machine.\n",
    "2. Open VSCode, and click the Extensions icon.\n",
    "3. Search available extensions for the official \"Raspberry Pi Pico\" extension. Install it.\n",
    "5. *Either* download the whole [course repo](https://github.com/vha3/Hunter-Adams-RP2040-Demos) and unzip it someplace convenient, *or* clone the repo to a convenient directory at the command line (`git clone -b master https://github.com/vha3/Hunter-Adams-RP2040-Demos.git`)\n",
    "5. In VSCode, click the icon for the Pi Pico extension, and then select \"Import Project.\"\n",
    "5. In the window that appears, change the location of the project by clicking the \"Change\" button. Select any project directory in the course demo repo, and then click \"Import.\"\n",
    "8. A new window will open that contains your project. Click \"Compile\" at the bottom of the screen to build the project. To load the project onto your Pico, hold down the Bootsel button and plug it in. Then click the \"Run\" icon at the bottom of the screen.\n"
   ]
  },
  {
   "cell_type": "markdown",
   "metadata": {},
   "source": [
    "#### Video-demonstration of the above instructions:"
   ]
  },
  {
   "cell_type": "markdown",
   "metadata": {},
   "source": [
    "<iframe width=\"560\" height=\"315\" src=\"https://www.youtube.com/embed/nIDVklS9Uys?si=jl0PQVWocE0rojdM\" title=\"YouTube video player\" frameborder=\"0\" allow=\"accelerometer; autoplay; clipboard-write; encrypted-media; gyroscope; picture-in-picture; web-share\" referrerpolicy=\"strict-origin-when-cross-origin\" allowfullscreen></iframe>"
   ]
  },
  {
   "cell_type": "markdown",
   "metadata": {},
   "source": [
    "***\n",
    "***\n",
    "***\n"
   ]
  },
  {
   "cell_type": "markdown",
   "metadata": {},
   "source": [
    "***\n",
    "***\n",
    "***\n"
   ]
  },
  {
   "cell_type": "markdown",
   "metadata": {},
   "source": [
    "***\n",
    "***\n",
    "***\n"
   ]
  },
  {
   "cell_type": "markdown",
   "metadata": {},
   "source": [
    "***\n",
    "***\n",
    "***\n"
   ]
  },
  {
   "cell_type": "markdown",
   "metadata": {},
   "source": [
    "## THE HARD WAY . . ."
   ]
  },
  {
   "cell_type": "markdown",
   "metadata": {},
   "source": [
    "This webpage is for students enrolled in [ECE 4760/5730](https://ece4760.github.io) at Cornell. It walks you through downloading the RP2040 C SDK and course demo code, and building that demo code.\n",
    "\n",
    "This document assumes that the build environment has already been setup on the computer (as it is in the computer lab). For information about setting this build environment up on your own machine, please see:\n",
    "> - [Setting up C/C++ build environent for Raspberry Pi Pico on Windows](https://vanhunteradams.com/Pico/Setup/PicoSetup.html)\n",
    "> - [Setting up C/C++ build environment for Raspberry Pi Pico on Mac](https://vanhunteradams.com/Pico/Setup/PicoSetupMac.html)\n",
    "> - [Setting up C/C++ build environment on Linux (see chapters 1 and 2)](https://datasheets.raspberrypi.com/pico/getting-started-with-pico.pdf)"
   ]
  },
  {
   "cell_type": "markdown",
   "metadata": {},
   "source": [
    "***"
   ]
  },
  {
   "cell_type": "markdown",
   "metadata": {},
   "source": [
    "## Video\n",
    "\n",
    "The video below demonstrates the entire procedure described on this webpage.\n",
    "\n",
    "<iframe width=\"560\" height=\"315\" src=\"https://www.youtube.com/embed/nColD4YyaEw\" title=\"YouTube video player\" frameborder=\"0\" allow=\"accelerometer; autoplay; clipboard-write; encrypted-media; gyroscope; picture-in-picture\" allowfullscreen></iframe>"
   ]
  },
  {
   "cell_type": "markdown",
   "metadata": {},
   "source": [
    "***"
   ]
  },
  {
   "cell_type": "markdown",
   "metadata": {},
   "source": [
    "## Procedure\n",
    "\n",
    "### First time\n",
    "\n",
    "1. Login to a lab PC using your netid and password\n",
    "2. Navigate to `Start menu --> Visual Studio 2019 --> Developer PowerShell for VS 2019`\n",
    "3. In the Developer powershell that opens, navigate to your own Documents directory by running:<br>\n",
    "`PS C:\\Program Files (x86)\\Microsoft Visual Studio\\2019\\BuildTools> cd C:\\Users\\NETID\\Documents`\n",
    "4. Create a new directory in your documents folder called `Pico` by running:<br>\n",
    "`PS C:\\Users\\NETID\\Documents> mkdir Pico`\n",
    "5. Navigate into the Pico directory by running:<br>\n",
    "`PS C:\\Users\\NETID\\Documents> cd Pico`\n",
    "6. Clone the RP2040 C SDK from Raspberry Pi's github by running:<br>\n",
    "`PS C:\\Users\\NETID\\Documents\\Pico> git clone -b master https://github.com/raspberrypi/pico-sdk.git`\n",
    "7. Navigate into the `pico-sdk` directory by running:<br>\n",
    "`PS C:\\Users\\NETID\\Documents\\Pico> cd pico-sdk`\n",
    "8. Update the SDK libraries by running:<br>\n",
    "`PS C:\\Users\\NETID\\Documents\\Pico\\pico-sdk> git submodule update --init`\n",
    "9. Navigate back to the `Pico` directory by running:<br>\n",
    "`PS C:\\Users\\NETID\\Documents\\Pico\\pico-sdk> cd ..`\n",
    "10. Clone the course demo code by running:<br>\n",
    "`PS C:\\Users\\NETID\\Documents\\Pico> git clone -b master https://github.com/vha3/Hunter-Adams-RP2040-Demos.git`\n",
    "11. Set the value of the `PICO_SDK_PATH` path variable by running:<br>\n",
    "`PS C:\\Users\\NETID\\Documents\\Pico> setx PICO_SDK_PATH \"..\\..\\pico-sdk\"`\n",
    "12. Set the value of the `PICO_TOOLCHAIN_PATH` path variable by running:<br>\n",
    "`PS C:\\Users\\NETID\\Documents\\Pico> setx PICO_TOOLCHAIN_PATH \"C:\\Program Files (x86)\\GNU Arm Embedded Toolchain\\10 2021.10\\\"`\n",
    "> - *If you are at PC 27 or 44 (check the sticker on the side of the PC), please raise your hand! This step is different for you.*\n",
    "13. **Close the Developer PowerShell for VS 2019 window.** This is required for the path variable changes to take effect.\n",
    "14. Reopen a Developer PowerShell for VS 2019 window by navigating to `Start menu --> Visual Studio 2019 --> Developer PowerShell for VS 2019`\n",
    "15. Navigate to the demos directory by running:<br>\n",
    "`PS C:\\Program Files (x86)\\Microsoft Visual Studio\\2019\\BuildTools> cd C:\\Users\\NETID\\Documents\\Pico\\Hunter-Adams-RP2040-Demos\\`\n",
    "16. Create a new directory in the demos folder called `build` by running:<br>\n",
    "`PS C:\\Users\\NETID\\Documents\\Pico\\Hunter-Adams-RP2040-Demos> mkdir build`\n",
    "17. Navigate into the new `build` directory by running:<br>\n",
    "`PS C:\\Users\\NETID\\Documents\\Pico\\Hunter-Adams-RP2040-Demos> cd build`\n",
    "18. Prepare the build folder by running:<br>\n",
    "`PS C:\\Users\\NETID\\Documents\\Pico\\Hunter-Adams-RP2040-Demos\\build> cmake -G \"NMake Makefiles\" ..`\n",
    "19. Build all demos by running:<br>\n",
    "`PS C:\\Users\\NETID\\Documents\\Pico\\Hunter-Adams-RP2040-Demos\\build> nmake`\n",
    "20. In a Folder Explorer window, navigate into `Documents/Pico/Hunter-Adams-RP2040-Demos/build`. There, you will find a folder for each project in the demo repository. Each folder contains the executables for that particular project. To program the RP2040 with one of those executables, press the `BOOTSEL` button, plug it into the PC, and drag/drop the uf2 file for that project onto the external memory device that appears.\n",
    "\n",
    "### Every subsequent time\n",
    "1. Navigate to `Start menu --> Visual Studio 2019 --> Developer PowerShell for VS 2019`\n",
    "2. In the Developer powershell that opens, navigate to the build directory in the demonstrations foler by running:<br>\n",
    "`PS C:\\Program Files (x86)\\Microsoft Visual Studio\\2019\\BuildTools> cd C:\\Users\\NETID\\Documents\\Pico\\Hunter-Adams-RP2040-Demos\\build\\`\n",
    "3. Build all demos by running:<br>\n",
    "`PS C:\\Users\\NETID\\Documents\\Pico\\Hunter-Adams-RP2040-Demos\\build> nmake`\n",
    "4. In a Folder Explorer window, navigate into `Documents/Pico/Hunter-Adams-RP2040-Demos/build`. There, you will find a folder for each project in the demo repository. Each folder contains the executables for that particular project. To program the RP2040 with one of those executables, press the `BOOTSEL` button, plug it into the PC, and drag/drop the uf2 file for that project onto the external memory device that appears."
   ]
  },
  {
   "cell_type": "markdown",
   "metadata": {},
   "source": [
    "***"
   ]
  }
 ],
 "metadata": {
  "kernelspec": {
   "display_name": "Python 3",
   "language": "python",
   "name": "python3"
  },
  "language_info": {
   "codemirror_mode": {
    "name": "ipython",
    "version": 3
   },
   "file_extension": ".py",
   "mimetype": "text/x-python",
   "name": "python",
   "nbconvert_exporter": "python",
   "pygments_lexer": "ipython3",
   "version": "3.8.3"
  }
 },
 "nbformat": 4,
 "nbformat_minor": 4
}
