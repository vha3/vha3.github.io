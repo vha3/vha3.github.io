{
 "cells": [
  {
   "cell_type": "markdown",
   "metadata": {},
   "source": [
    "# Schedule of due dates for ECE 4760/5730: Fall 2025"
   ]
  },
  {
   "cell_type": "markdown",
   "metadata": {},
   "source": [
    "As described on the [course policy page](https://vanhunteradams.com/Pico/CourseMaterials/Policy.html), all of your lab reports will be turned in electronically via Canvas. These will be due *before the beginning of your next lab section.* Your final project status reports will also be turned in electronically via Canvas.\n",
    "\n",
    "Each of your laboratory checkoffs should be demonstrated by the *end* of your assigned lab section to the instructor or a TA."
   ]
  },
  {
   "cell_type": "markdown",
   "metadata": {},
   "source": [
    "| Week of . . . | Checkoff due<br>at end of lab section| Deliverable due<br>at beginning of lab section |\n",
    "| :-- | :-- | ----: |\n",
    "| 8/25  |               | \n",
    "| 9/1   | Lab 1: Week 1 | Homework 0! <br> Setup the build environment. <br> Read the policy page.\n",
    "| 9/8   | Lab 1: Week 2 | \n",
    "| 9/15  | Lab 1: Week 3 | \n",
    "| 9/22  | Lab 2: Week 1 | Lab 1 report\n",
    "| 9/29  | Lab 2: Week 2 |\n",
    "| 10/6  | Lab 2: Week 3 | \n",
    "| 10/13 | (Fall break)  |             \n",
    "| 10/20 | Lab 3: Week 1 | Lab 2 report\n",
    "| 10/27 | Lab 3: Week 2 | Final project proposal\n",
    "| 11/3  | Lab 3: Week 3 | \n",
    "| 11/10 | Project: Week 1 | Lab 3 report <br> Project status report\n",
    "| 11/17 | Project: Week 2 | Project status report\n",
    "| 11/24 | (Thanksgiving)  | \n",
    "| 12/1  | Project: Week 3 | Project status report\n",
    "| 12/8  | Final Project Demos | \n",
    "| TBD   |  | Final project webpage"
   ]
  },
  {
   "cell_type": "markdown",
   "metadata": {},
   "source": [
    "***"
   ]
  }
 ],
 "metadata": {
  "kernelspec": {
   "display_name": "Python 3",
   "language": "python",
   "name": "python3"
  },
  "language_info": {
   "codemirror_mode": {
    "name": "ipython",
    "version": 3
   },
   "file_extension": ".py",
   "mimetype": "text/x-python",
   "name": "python",
   "nbconvert_exporter": "python",
   "pygments_lexer": "ipython3",
   "version": "3.8.3"
  }
 },
 "nbformat": 4,
 "nbformat_minor": 4
}
