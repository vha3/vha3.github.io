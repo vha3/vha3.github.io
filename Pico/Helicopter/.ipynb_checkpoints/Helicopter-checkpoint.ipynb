{
 "cells": [
  {
   "cell_type": "markdown",
   "metadata": {},
   "source": [
    "# PID control of a 1D helicopter\n",
    "#### [V. Hunter Adams](https://vanhunteradams.com)\n",
    "\n",
    "**Note: This is a *minor* rewrite of an [existing PIC32 lab for ECE 4760 created by Bruce Land](https://people.ece.cornell.edu/land/courses/ece4760/labs/f2019/lab3_2019.html).**\n",
    "\n",
    "> - [Introduction](#Introduction)\n",
    "> - [Reading](#Reading)\n",
    "> > - [Theoretical background](#Theoretical-background)\n",
    "> > - [Engineering background](#Engineering-background)\n",
    "> - [Program organization](#Program-organization)\n",
    "> - [Weekly checkpoints and lab report](#Weekly-checkpoints-and-lab-report)\n"
   ]
  },
  {
   "cell_type": "markdown",
   "metadata": {},
   "source": [
    "***"
   ]
  },
  {
   "cell_type": "markdown",
   "metadata": {},
   "source": [
    "## Introduction\n",
    "\n",
    "In this lab, you will construct and control of a one-degree-of-freedom helicopter. A small ducted is rigidly attached to the end of a lever-arm, the other end of which is attached to a hinge. The drone motor can lift the arm, and the angle of the arm is estimated via a complementary filter of accelerometer and gyro measurements from an onboard IMU. The user can select a target arm-angle and a PID controller will drive the arm to that angle.\n",
    "\n",
    "The target and measured angle are displayed on the oscilloscope *or* the VGA screen and the user specifies new target angles through a serial interface to the RP2040. <br><br>\n",
    "\n",
    "<figure>\n",
    "    <img align=\"center\" width=\"600\" height=\"500\" src=\"system.png\" alt='missing' />\n",
    "    <center><figcaption></figcaption></center>\n",
    "</figure>\n",
    "\n",
    "**Key concepts**: I2C communication, PID control, electrical isolation of DC motors, optical isolators, PWM, complementary filters, gyroscopes, accelerometers, gyro bias, mechanical assembly, navigating sensor datasheets, UART, VGA, digital low-pass filtering"
   ]
  },
  {
   "cell_type": "markdown",
   "metadata": {},
   "source": [
    "## Demonstration\n",
    "\n",
    "A demo is shown below.\n",
    "\n",
    "<iframe width=\"560\" height=\"315\" src=\"https://www.youtube.com/embed/tBG3TAfaHME\" title=\"YouTube video player\" frameborder=\"0\" allow=\"accelerometer; autoplay; clipboard-write; encrypted-media; gyroscope; picture-in-picture; web-share\" allowfullscreen></iframe>\n"
   ]
  },
  {
   "cell_type": "markdown",
   "metadata": {},
   "source": [
    "## Reading\n",
    "\n",
    "Experience shows that students prefer these webpages short. For that reason, please find the reading and background materials on the webpages linked below. *Please note that the information in these readings will be critical for completing the lab.*\n",
    "\n",
    "### Theoretical background\n",
    "> - [**Complementary filters**](https://vanhunteradams.com/Pico/ReactionWheel/Complementary_Filters.html): A method for estimating angle from gyroscope and accelerometer measurements. This is a *great* algorithm for your toolbox. Quick, easy, and effective.\n",
    "> - [**Phenomenological introduction to PID controllers**](https://vanhunteradams.com/PID/PID.html): This document focuses on building a phenomenological understanding of PID controllers through demos. The hope is that this document will help you debug your system based on the behavior that you observe in lab, and the one below will help you understand that behavior.\n",
    "> - [**Analytical introduction to PID controllers**](https://vanhunteradams.com/PID/PID_Analytical.html): This document focuses on building an analytical understanding of these controllers. The hope is that the phenomenological document will help you debug your system based on the behavior that you observe in lab, and this one will help you understand that behavior.\n",
    "\n",
    "### Engineering background\n",
    "> - [**Mechanical contruction of the lever arm**](./Fan_Arm.html): This webpage provides instructions for the mechanical construction of the lever arm.\n",
    "> - [**Motor circuit and PWM**](./MotorCircuit.html): This webpage describes the circuit that you will construct to safely drive the DC motor, and how to generate PWM.\n",
    "<!-- > - [**Angle sensing circuit**](./Angle.html): This webpage describes the potentiometer circuit that you will use to measure the arm's position, and how to setup/read the ADC. -->\n",
    "> - [**Data display**](./Display.html): This webpage describes the data that you must visualize in realtime, and some strategies for visualizing that data.\n",
    "> - [**I2C communication**](https://vanhunteradams.com/Protocols/I2C/I2C.html): You will communicate with the IMU via an I2C channel. An understanding of the I2C protocol will help you debug that connection.\n",
    "> - [**RP2040 datasheet**](https://datasheets.raspberrypi.com/rp2040/rp2040-datasheet.pdf): See chapters on PWM and I2C.\n",
    "> - [**RP2040 C SDK**](https://www.raspberrypi.com/documentation/pico-sdk/hardware.html): See chapters on PWM and I2C.\n",
    "\n",
    "### Optional book-club reading\n",
    "> - [**Leonardo da Vinci** by Walter Isaacson](https://www.amazon.com/Leonardo-Vinci-Walter-Isaacson/dp/1501139150): Chapters 23-33"
   ]
  },
  {
   "cell_type": "markdown",
   "metadata": {},
   "source": [
    "## Program organization\n",
    "\n",
    "You may organize your program however you like. Here is a suggestion:\n",
    "\n",
    "- **Protothreads** maintains the ISR-driven, millisecond-scale timing as part of the supplied system. Use this for all low-precision timing (can have several milliseconds jitter).\n",
    "- **PID ISR** uses a timer or PWM interrupt to ensure an exact 1kHz control rate.\n",
    "> - Clears the interrupt flag\n",
    "> - Reads the IMU to get raw accelerometer/gyro measurements\n",
    "> - (Possibly, low-passes the accelerometer measurements)\n",
    "> - Estimates angle by menas of a complementary filter of accel/gyro measurements\n",
    "> - Runs the PID control loop at 1000/sec using the angle estimates from the complementary filter\n",
    "> - Sets a hardware PWM signal using output-compare unit to control the motor using the command: `pwm_set_chan_level(slice_num, PWM_CHAN_X[A or B], pwm_on_time);`.\n",
    "> - (possibly) communicates measured angle and low-passed control input to DAC\n",
    "- **Main** sets up peripherals and protothreads then just schedules tasks, round-robin\n",
    "- **Thread 1**\n",
    "> - Takes user input from the serial interface to setup PID parameters and the desired angle.\n",
    "- **Thread 2**\n",
    "> - (possibly) diplays measured angle and low-passed control input on VGA display"
   ]
  },
  {
   "cell_type": "markdown",
   "metadata": {},
   "source": [
    "## Weekly checkpoints and lab report\n",
    "\n",
    "Note that these checkpoints are **cumulative**. In week 2, for example, you must have also completed all of the requirements from week 1.\n",
    "\n",
    "#### Week one checkpoint\n",
    "\n",
    "By the end of the lab session in week one of the lab you must have:\n",
    "\n",
    "- The mechanical assembly finished and be able to control motor speed open loop, from the PWM output. [Here is some demo code](https://github.com/vha3/Hunter-Adams-RP2040-Demos/tree/master/PWM/PWM_Demo) to get you started. See the [motor circuit page](https://vanhunteradams.com/Pico/Helicopter/MotorCircuit.html).\n",
    "- **You will build your motor control circuit on a printed circuit board, not on the breadboard!** See the [motor circuit page](https://vanhunteradams.com/Pico/Helicopter/MotorCircuit.html).\n",
    "- *Finishing a checkpoint does NOT mean you can leave lab early!*\n",
    "\n",
    "#### Week two checkpoint\n",
    "\n",
    "By the end of the lab session in week two of the lab you must have:\n",
    "\n",
    "- Display of the actual beam angle and the low-passed motor command signal using the VGA display. *This is critical for debugging.* [Here is some demo code for getting started](https://github.com/vha3/Hunter-Adams-RP2040-Demos/tree/master/Sensors/MPU6050_IMU_Demo).\n",
    "- Full closed-loop control of the motor (just proportional control is fine).\n",
    "- Serial command interface to set PID parameters.\n",
    "- *Finishing a checkpoint does NOT mean you can leave lab early!*\n",
    "\n",
    "#### Week three assignment\n",
    "\n",
    "- Measure the angle of the beam supporting the lift-motor, display the beam position either on the oscilloscope or the VGA screen.\n",
    "- Format the set angle and PID parameters to display appropriate messages on the VGA display or the serial console.\n",
    "- At any time, take commands from the serial interface to:\n",
    "> - Set the desired beam angle\n",
    "> - Set the PID proportional gain\n",
    "> - Set the PID differential gain\n",
    "> - Set the PID integral gain\n",
    "> - The new values should take effect immediately\n",
    "> - One set of coefficients should produce stable behavior over the range of desired hover angles\n",
    "- Use a PID control algorithm to control the speed of the motor by producing a PWM drive to the optoisolator. [PWM setup example](https://github.com/vha3/Hunter-Adams-RP2040-Demos/tree/master/PWM/PWM_Demo).\n",
    "- Tune the PID algorithm so that you can change the angle of the beam quickly and accurately without excessive angle oscillations.\n",
    "- The user should be able to enter a desired hover angle and the motor should quickly change the beam to the new angle. The initial angle of the beam should be around -1.57 radians (hanging straight down).\n",
    "- Display the motor control value (not the raw PWM signal) on the scope or VGA. Noise control on this signal is essential. If you cannot see the shape of the control signal, you will not get credit for this feature! *You may need to combine DSP and analog filtering, depending on exactly how you build the circuit.*\n",
    "- Display the actual beam angle, from the angle sensor, on the VGA. If this signal is noisy, you need to find out why! Poor wire routing, loose connections, and motor noise are all posibilities. A noisy input makes the control PID algorithm very hard to tune.\n",
    "- When a button is pushed (not the reset button), the beam should go through a quick sequence of defined angle changes, using the current set of PID parameters:\n",
    "> - Before time=0, while holding the button, the beam should be hanging vertically down (motor off)\n",
    "> - When the button is released at time=0, target angle should be set to horizontal\n",
    "> - At time=5 seconds, target angle should be set to approximately 30 degrees above horizontal\n",
    "> - At time=10, target angle should be set to approximately 30 degrees below horizontal\n",
    "> - At time=15, target angle should be set to horizontal\n",
    "\n",
    "You will demo all of the features above to a course staff member. You program should not need to be reset during the demo."
   ]
  },
  {
   "cell_type": "markdown",
   "metadata": {},
   "source": [
    "#### Lab report\n",
    "\n",
    "Your written lab report should include the sections mentioned on the [policy page](https://people.ece.cornell.edu/land/courses/ece4760/EE4760_policy.html), and:\n",
    "\n",
    "- A schematic of the circuit you built\n",
    "- VGA screen dumps of typical two-trace: (1) motor-control and (2) actual angle. Include the demo sequence of four angles, as shown below\n",
    "<figure>\n",
    "    <img align=\"center\" width=\"500\" height=\"500\" src=\"lab4_Four_steps_tek.png\" alt='missing' />\n",
    "    <center><figcaption></figcaption></center>\n",
    "</figure>\n",
    "- A summary of the accuracy of your measurements. How accurately can you measure the angle?\n",
    "- How you selected the three PID gains.\n",
    "- What are the maximum/minimum angles that produce stable behavior for your PID gains?\n",
    "- What are the settling times at different angles?\n",
    "- A heavily commented listing of your code.\n",
    "- A prompt log from any AI tool that you used for code generation. The log should include words exchanged, number of code additions/deletions/modifications suggested, and number of code additions/deletions/modification accepted. The AI tool will generate this log for you if prompted to do so."
   ]
  },
  {
   "cell_type": "markdown",
   "metadata": {},
   "source": [
    "***"
   ]
  }
 ],
 "metadata": {
  "kernelspec": {
   "display_name": "Python 3",
   "language": "python",
   "name": "python3"
  },
  "language_info": {
   "codemirror_mode": {
    "name": "ipython",
    "version": 3
   },
   "file_extension": ".py",
   "mimetype": "text/x-python",
   "name": "python",
   "nbconvert_exporter": "python",
   "pygments_lexer": "ipython3",
   "version": "3.8.3"
  }
 },
 "nbformat": 4,
 "nbformat_minor": 4
}
