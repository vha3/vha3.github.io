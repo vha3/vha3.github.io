{
 "cells": [
  {
   "cell_type": "markdown",
   "metadata": {},
   "source": [
    "# Network Time Protocol & the Realtime Clock\n",
    "#### [V. Hunter Adams](https://vanhunteradams.com)"
   ]
  },
  {
   "cell_type": "markdown",
   "metadata": {},
   "source": [
    "***"
   ]
  },
  {
   "cell_type": "markdown",
   "metadata": {},
   "source": [
    "## Introduction\n",
    "\n",
    "With the ability to [connect our Pico W to a WiFi network](https://vanhunteradams.com/Pico/UDP/Connecting.html), and the ability to [send and receive UDP packets](https://vanhunteradams.com/Pico/UDP/UDP_Chat.html), we unlock the ability to query a Network Time Protocol server in order to learn the date and time of day. With the date and time of day, we can then set the RP2040's realtime clock. For applications in that involve timestamped data logging, this might be a really handy capability!\n",
    "\n",
    "**Please note**: To a large extent, this webpage simply documents an [existing example](https://github.com/raspberrypi/pico-examples/blob/master/pico_w/wifi/ntp_client/picow_ntp_client.c) from Raspberry Pi, and an existing [augmentation of that example](https://people.ece.cornell.edu/land/courses/ece4760/pi_pico/wifi_ntp_vga16/index_ntp_vga16.html) by Bruce Land. The example described on this webpage just simplifies Bruce's a tiny bit by omitting the VGA display."
   ]
  },
  {
   "cell_type": "code",
   "execution_count": null,
   "metadata": {},
   "outputs": [],
   "source": []
  }
 ],
 "metadata": {
  "kernelspec": {
   "display_name": "Python 3",
   "language": "python",
   "name": "python3"
  },
  "language_info": {
   "codemirror_mode": {
    "name": "ipython",
    "version": 3
   },
   "file_extension": ".py",
   "mimetype": "text/x-python",
   "name": "python",
   "nbconvert_exporter": "python",
   "pygments_lexer": "ipython3",
   "version": "3.8.3"
  }
 },
 "nbformat": 4,
 "nbformat_minor": 4
}
