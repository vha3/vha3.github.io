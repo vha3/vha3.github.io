{
 "cells": [
  {
   "cell_type": "markdown",
   "metadata": {},
   "source": [
    "# Connecting to WiFi with the Pi Pico W\n",
    "#### [V. Hunter Adams](https://vanhunteradams.com)"
   ]
  },
  {
   "cell_type": "markdown",
   "metadata": {},
   "source": [
    "> - [The Pico W Wifi stack](#The-Pico-W-WiFi-stack)\n",
    "> - [What happens when we connect to WiFi?](#What-happens-when-we-connect-to-WiFi?)\n",
    "> > - [Setting up a network](#Setting-up-a-network)\n",
    "> > - [Connecting to the network](#Connecting-to-the-network)\n",
    "> - [Connecting to WiFi with the Pico W](#Connecting-to-WiFi-with-the-Pico-W)\n",
    "> > - [Initializing the hardware](#Initializing-the-hardware)\n",
    "> > - [Putting the device into station mode](#Putting-the-device-into-station-mode)\n",
    "> > - [Connecting to the network](#Connecting-to-the-network)\n",
    "> > - [Viewing and customizing the network interface](#Viewing-and-customizing-the-network-interface)\n",
    "> - [A function for connecting to a network](#A-function-for-connecting-to-a-network)\n",
    "> - [CMake](#CMake)\n",
    "> - [Other odds and ends](#Other-odds-and-ends)\n",
    "> > - [Scanning networks](#Scanning-networks)\n",
    "> > - [Getting signal strength](#Getting-signal-strength)\n",
    "\n",
    "**Please note**, my primary resource for this webpage is [Fairhead and James](https://www.amazon.com/Master-Raspberry-Pi-Pico-mbedtls/dp/1871962811/ref=pd_bxgy_thbs_d_sccl_1/145-0480932-9991861?pd_rd_w=K3PxJ&content-id=amzn1.sym.dcf559c6-d374-405e-a13e-133e852d81e1&pf_rd_p=dcf559c6-d374-405e-a13e-133e852d81e1&pf_rd_r=KG4YEA5VKCP6WVB02XPG&pd_rd_wg=D8Le5&pd_rd_r=270e4e0e-0a3d-40c0-a916-99aec74f4d9d&pd_rd_i=1871962811&psc=1)."
   ]
  },
  {
   "cell_type": "markdown",
   "metadata": {},
   "source": [
    "***"
   ]
  },
  {
   "cell_type": "markdown",
   "metadata": {},
   "source": [
    "## The Pico W WiFi stack\n",
    "\n",
    "There are two libraries that facilitate WiFi on the Pi Pico W. There exists a very low-level library, `cyw43_driver`, that allows for interaction with the CYW43 chip via an SPI interface. For almost everyone, this library is probably a layer or two *beneath* that on which they will be doing most of their engineering. The pico SDK includes a slightly-higher-level library, `pico_cyw43_arch`, which implements some functions that use the low-level driver to do things like scan for access points, connect to access points, etc. This is the lowest-level library that most folks will probably use in their projects, and they'll use this library to *setup* WiFi rather than sending data over WiFi.\n",
    "\n",
    "Above this sits the `pico_lwip` library, which is a wrapper for Adam Dunkels' [Lightweight IP](https://en.wikipedia.org/wiki/LwIP). This is a open-sourced TCP/IP stack designed for embedded systems, and ported to the Pi Pico W.\n",
    "\n",
    "This webpage focuses only on how one uses the `pico_cyw43_arch` library to setup a WiFi connection with a Pico W. Subsequent webpages will discuss how to utilize the `pico_lwip` library to exchange data over WiFi via UDP and TCIP/IP. As a resource for this documentation, I am making extensive use of [Master the Raspberry Pi Pico in C: WiFi with LWIP and mbedutils](https://www.amazon.com/Master-Raspberry-Pi-Pico-mbedtls/dp/1871962811/ref=pd_bxgy_thbs_d_sccl_1/145-0480932-9991861?pd_rd_w=K3PxJ&content-id=amzn1.sym.dcf559c6-d374-405e-a13e-133e852d81e1&pf_rd_p=dcf559c6-d374-405e-a13e-133e852d81e1&pf_rd_r=KG4YEA5VKCP6WVB02XPG&pd_rd_wg=D8Le5&pd_rd_r=270e4e0e-0a3d-40c0-a916-99aec74f4d9d&pd_rd_i=1871962811&psc=1). I'm also making use of the [LWIP examples](https://github.com/lwip-tcpip/lwip/tree/master/contrib/apps), and the [pi pico examples](https://github.com/raspberrypi/pico-examples/tree/master/pico_w/wifi/udp_beacon). Bruce also has some [really nice examples](https://people.ece.cornell.edu/land/courses/ece4760/RP2040/C_SDK_LWIP/UDP_2_pico/index_udp_2_pico.html) from which to start a project."
   ]
  },
  {
   "cell_type": "markdown",
   "metadata": {},
   "source": [
    "***"
   ]
  },
  {
   "cell_type": "markdown",
   "metadata": {},
   "source": [
    "## What happens when we connect to WiFi?\n",
    "\n",
    "Before describing this process for the pico in particular, it is helpful to understand the process in general. When we connect a device to a WiFi network, the following occurs:\n",
    "\n",
    "\n",
    "#### Setting up a network\n",
    "1. Our router connects to the Internet via its modem, and receives a public IP address from the Internet Service Provider (ISP).\n",
    "1. During setup/configuration, the router will prompt for (or automatically assign) a *country code.* This tells the router which channels and power levels are legally allowed in that particular region.\n",
    "1. The router may also ask the user to choose a security protocol. One often chooses WPA2-Mixed, which supports both WPA2-AES for newer devices and WPA-TKIP for older ones.\n",
    "2. The router sets up the *local* network, and assigns itself a private IP address on that network. These local IP addresses are usually of the form 192.168.1.X, and it's often the case that the router will take 192.168.1.1. \n",
    "3. This router will also prepare a *subnet mask* (e.g. 255.255.255.0). The subnet mask tells all devices on the local network which part of the IP address represents the *network*, and which part represents the *specific device on that network.* For example, a device with IP address 192.168.1.20 on a network with subnet mask 255.255.255.0 uses the first three parts of the IP (192.168.1) to identify the network, and the last part of the IP (20) to identify the device on that network.\n",
    "4. The router also generally makes itself the *gateway* for the network. Any device that wants to send a message to another device with an IP that indicates (by way of the subnet mask) that it is *not* on the subnet, will instead forward the message to the gateway, which subsequently sends out out to the Internet. The gateway is the door from the local network to the broader Internet. If the IP indicates that the device *is* on the local network, then we don't bother the gateway.\n",
    "5. The router starts up a DHCP server (Dynamic Host Configuration Protocol). This will automatically assign local IP addresses to new devices which join the network. It has a collection from which it can choose, of a size dictated by the subnet mask.\n",
    "\n",
    "#### Connecting to the network\n",
    "1. We connect to the network by way of that network's SSID (i.e., it's name). This SSID is broadcast by the router as part of the WiFi signal so that devices can see it. Connection often requires a password.\n",
    "2. When we connect, the router will use its DHCP server to assign us a local IP address, and it will send us the local network gateway and subnet mask. That's all the info that we need to join that network.\n",
    "3. It's often the case that this connection is wireless! Bruce has documented the wireless link considerations for the Pico W at [this webpage](https://people.ece.cornell.edu/land/courses/ece4760/RP2040/C_SDK_setup/WIFI/index_wifi_setup.html).\n",
    "\n",
    "After connection, of course, there's a whole other protocol by which information is actually exchanged. But let's save that conversation, and focus only on getting a Pico W connected to a network."
   ]
  },
  {
   "cell_type": "markdown",
   "metadata": {},
   "source": [
    "***"
   ]
  },
  {
   "cell_type": "markdown",
   "metadata": {},
   "source": [
    "## Connecting to WiFi with the Pico W\n",
    "\n",
    "#### Initializing the hardware\n",
    "\n",
    "Before connecting to a WiFi network, we must initialize the CYW43 chip itself. As a part of this initialization, we must tell the chip which country its in, so that it knows which channels and power levels it should use. In order to do this, we have two options. We could either call the `pico_cyw43_arch` library function `int cyw43_arch_init_with_country(uint32_t country)` which, as an argument, takes the country code. Macros for these country codes are available at [pico-sdk/lib/cyw43-driver/src/cyw43_country.h](https://github.com/georgerobotics/cyw43-driver/blob/c1075d4bc440422cf2b2fd12c64a1f53f77660ee/src/cyw43_country.h). Alternatively, we can simply call `int cyw43_arch_init(void)`, which uses the country code set by `PICO_CYW43_ARCH_DEFAULT_COUNTRY_CODE` in `cyw43_arch.h`. By default, this is set to \"worldwide.\" Everything that happens when we call this function is described to excruciating depth on [this webpage](https://vanhunteradams.com/Pico/BLE/BTStack_HCI.html#Initializing-the-CYW43-Driver)."
   ]
  },
  {
   "cell_type": "markdown",
   "metadata": {},
   "source": [
    "#### Putting the device into station mode\n",
    "\n",
    "Our Pico can act either as a client in station mode (in which it connects to a network) or as an access point (in which it generates a network to which other devices connect). We will consider each, but let us start with *station mode*, in which the Pico W will connect to a network. We enable station mode by way of the `pico_cyw43_arch` library function `cy243_arch_enable_sta_mode()`."
   ]
  },
  {
   "cell_type": "markdown",
   "metadata": {},
   "source": [
    "#### Connecting to the network\n",
    "\n",
    "After having initialized the hardware and putting it into station mode, we can now make a connection to an access point. There are three types of connection: blocking, timout, and async. As the names suggest, a blocking connection will block until a connection has been made, timeout will block until a specified time has passed, and async will attempt an asynchronous connection in a non-blocking fashion. Furthermore, each of these three types of connection comes in two versions, one that includes a MAC address and one that does not. All options are enumerated below. Note that the `auth` argument represents the security protocol. Macros for all options are available in [pico-sdk/lib/cyw43-driver/src/cyw43_ll.h](https://github.com/georgerobotics/cyw43-driver/blob/c1075d4bc440422cf2b2fd12c64a1f53f77660ee/src/cyw43_ll.h).\n",
    "\n",
    "1. `int cyw43_arch_wifi_connect_blocking(const char *ssid, const char *pw, uint32_t auth)`\n",
    "1. `int cyw43_arch_wifi_connect_bssid_blocking(const char *ssid, const uint8_t *bssid, const char *pw, uint32_t auth)`\n",
    "1. `int cyw43_arch_wifi_connect_timeout_ms(const char *ssid, const char *pw, uint32_t auth, uint32_t timeout_ms)`\n",
    "1. `int cyw43_arch_wifi_connect_bssid_timeout_ms(const char *ssid, const uint8_t *bssid, const char *pw, uint32_t auth, uint32_t timeout_ms)`\n",
    "1. `int cyw43_arch_wifi_connect_async(const char *ssid, const char *pw, uint32_t auth)`\n",
    "1. `int cyw43_arch_wifi_connect_bssid_async(const char *ssid, const uint8_t *bssid, const char *pw, uint32_t auth)`"
   ]
  },
  {
   "cell_type": "markdown",
   "metadata": {},
   "source": [
    "#### Viewing and customizing the network interface\n",
    "\n",
    "After having made the connection to a network, we are out of the lower-level `pico_cyw43_arch` library and up into the `pico_lwip` library. This library contains a number of different modules, but the module of relevance for viewing and customizing our network interface is NETIF. It is via this module that we can learn all the network information that the access point gave us upon connection: our IP, netmask, gateway, etc. In particular, all this information gets stored in a struct called `netif_default`. This struct has three fields: `ip_attr_t ip_addr`, `ip_addr_t netmask`, and `ip_addr_t gw` which represent our assigned IP, netmask, and gateway.\n",
    "\n",
    "The SDK provides some macros for viewing and modifying these network settings. To print the fields of the global `netif_default` struct, we can use the following (taken from [Fairhead and James](https://www.amazon.com/Master-Raspberry-Pi-Pico-mbedtls/dp/1871962811/ref=pd_bxgy_thbs_d_sccl_1/145-0480932-9991861?pd_rd_w=K3PxJ&content-id=amzn1.sym.dcf559c6-d374-405e-a13e-133e852d81e1&pf_rd_p=dcf559c6-d374-405e-a13e-133e852d81e1&pf_rd_r=KG4YEA5VKCP6WVB02XPG&pd_rd_wg=D8Le5&pd_rd_r=270e4e0e-0a3d-40c0-a916-99aec74f4d9d&pd_rd_i=1871962811&psc=1):\n",
    "- `printf(\"IP: %s\\n\", ip4addr_ntoa(netif_ip_addr(netif_default))) ;`\n",
    "- `printf(\"Mask: %s\\n\", ip4addr_ntoa(netif_ip_netmask4(netif_default))) ;`\n",
    "- `printf(\"Gateway: %s\\n\", ip4addr_ntoa(netif_ip_gw4(netif_default))) ;`\n",
    "\n",
    "But perhaps we want to assign our Pico W a fixed IP address! In order to do this, we could do the following (again borrowed from [Fairhead and James](https://www.amazon.com/Master-Raspberry-Pi-Pico-mbedtls/dp/1871962811/ref=pd_bxgy_thbs_d_sccl_1/145-0480932-9991861?pd_rd_w=K3PxJ&content-id=amzn1.sym.dcf559c6-d374-405e-a13e-133e852d81e1&pf_rd_p=dcf559c6-d374-405e-a13e-133e852d81e1&pf_rd_r=KG4YEA5VKCP6WVB02XPG&pd_rd_wg=D8Le5&pd_rd_r=270e4e0e-0a3d-40c0-a916-99aec74f4d9d&pd_rd_i=1871962811&psc=1)):\n",
    "\n",
    "```c\n",
    "// create an object of type ip_addr_t called ip\n",
    "ip_addr_t ip ;\n",
    "// Use an SDK macro to set the value of this ip object to our desired IP address\n",
    "IP4_ADDR(&ip, 192, 168, 253, 210) ;\n",
    "// Set the IP field of the netif_default struct to our desired IP address\n",
    "netif_set_ipaddr(netif_default, &ip) ;\n",
    "// Use an SDK macro to set the value of the ip object to our desired netmask\n",
    "IP4_ADDR(&ip, 255, 255, 255, 0) ;\n",
    "// Set the netmask field of the netif_default struct to our desired netmask\n",
    "netif_set_netmask(netif_default, &ip) ;\n",
    "// Use an SDK macro to set the value of this ip object to our desired gateway\n",
    "IP4_ADDR(&ip, 192, 168, 253, 210) ;\n",
    "// Set the gateway field of the netif_default struct to our desired gateway\n",
    "netif_set_gw(netif_default, &ip)\n",
    "```"
   ]
  },
  {
   "cell_type": "markdown",
   "metadata": {},
   "source": [
    "***"
   ]
  },
  {
   "cell_type": "markdown",
   "metadata": {},
   "source": [
    "## A function for connecting to a network\n",
    "\n",
    "We can consolidate all of the above steps into a single, reusable function. It probably makes sense to consolidate all of this into its own header file, perhaps called something like `connect.h`. Please note that this is a minimal example. You might imagine augmenting this such that the user can pass desired IP, gateway, and netmask values in as arguments. You might also use the async connection to provide a bit more feedback during the connection process.\n",
    "\n",
    "```c\n",
    "#include <stdio.h>\n",
    "#include \"pico/stdlib.h\"\n",
    "#include \"pico/cyw43_arch.h\"\n",
    "\n",
    "char ssid[] = \"hostname\" ;\n",
    "char password[] = \"password\" ;\n",
    "uint32_t country = CYW43_COUNTRY_USA ;\n",
    "uint32_t auth = CYW43_AUTH_WPA2_MIXED_PSK ;\n",
    "\n",
    "\n",
    "int connectWifi(uint32_t country, const char *ssid, const char *pass, uint32_t auth) {\n",
    "    \n",
    "    // Initialize the hardware\n",
    "    if (cyw43_arch_init_with_country(country)) {\n",
    "        printf(\"Failed to initialize hardware.\\n\") ;\n",
    "        return 1 ;\n",
    "    }\n",
    "    \n",
    "    // Make sure the LED is off\n",
    "    cyw43_arch_gpio_put(CYW43_WL_GPIO_LED_PIN, 0) ;\n",
    "    \n",
    "    // Put the device into station mode\n",
    "    cyw43_arch_enable_sta_mode() ;\n",
    "    \n",
    "    // Print a status message\n",
    "    printf(\"Attempting connection . . . \\n\") ;\n",
    "    \n",
    "    // Connect to the network\n",
    "    if (cyw43_arch_wifi_connect_blocking(ssid, pass, auth)) {\n",
    "        return 2 ;\n",
    "    }\n",
    "    \n",
    "    // Use the LED to indicate connection success\n",
    "    cyw43_arch_gpio_put(CYW43_WL_GPIO_LED_PIN, 1) ;\n",
    "    \n",
    "    // Report the IP, netmask, and gateway that we've been assigned\n",
    "    printf(\"IP: %s\\n\", ip4addr_ntoa(netif_ip_addr4(netif_default))) ;\n",
    "    printf(\"Mask: %s\\n\", ip4addr_ntoa(netif_ip_netmask4(netif_default))) ;\n",
    "    printf(\"Gateway: %s\\n\", ip4addr_ntoa(netif_ip_gw4(netif_default))) ;\n",
    "    \n",
    "    return 0 ;\n",
    "    \n",
    "}\n",
    "```"
   ]
  },
  {
   "cell_type": "markdown",
   "metadata": {},
   "source": [
    "***"
   ]
  },
  {
   "cell_type": "markdown",
   "metadata": {},
   "source": [
    "## CMake\n",
    "\n",
    "We could now import the above header file into our application and use it to connect to a WiFi network. There's one last configuration that's required, however. The WiFi chip needs periodic attention, and we can give it that attention in a few different ways. If we choose to setup the system in *polling* mode, then it is our responsibility, in our program, to periodically call `cyw43_arch_poll()` (around every 50 ms). Alternatively, we could run the system in *threadsafe background* mode, which will automatically call the poll function in an interrupt. Finally, we could set this up in *FreeRTOS* mode, which incorporates lwip into the FreeRTOS infrastructure. We choose which of these three modes we'd like to use by linking the associated library in the project's CMakeLists.txt file. For the above file, the `target_link_libraries` line of the CMakeLists would look like the following if we wanted to use threadsafe background mode:\n",
    "\n",
    "`target_link_libraries(project_name pico_stdlib, pico_cyw43_arch_lwip_threadsafe_background)`\n",
    "\n",
    "If instead we wanted to poll, we'd link `pico_cyw43_arch_lwip_poll`. And if instead we wanted to use FreeRTOS, we'd use `pico_cyw43_arch_lwip_sys_freertos`."
   ]
  },
  {
   "cell_type": "markdown",
   "metadata": {},
   "source": [
    "***"
   ]
  },
  {
   "cell_type": "markdown",
   "metadata": {},
   "source": [
    "## Other odds and ends\n",
    "\n",
    "#### Scanning networks\n",
    "\n",
    "Perhaps we want to scan for available WiFi networks. The `pico_cyw43_arch` library includes a function which allows for us to discover available access points. That function looks like the following:\n",
    "\n",
    "```c\n",
    "int cyw43_wifi_scan(cyw43_t *self, cyw43_wifi_scan_options_t *opts, void *env, int (*result_cb)(void *, const cyw43_ev_scan_result_t *))\n",
    "```\n",
    "\n",
    "The first argument is a pointer to a cyw43_t struct. During initalization, a global object of this type gets created, and is named `cyw43_state`. When we actually call this function, we'll pass a pointer to this global struct for this argument. The second argument, `*opts`, must be set to zero. The third argument gets `NULL`, and the final argument is a pointer to the scan result callback function. So, calling this function would look something like the following (from Fairhead and James):\n",
    "\n",
    "```c\n",
    "cyw43_wifi_scan_options_t scan_options = {0} ;\n",
    "int err = cyw43_wifi_scan(&cyw43_state, &scan_options, NULL, scan_result) ;\n",
    "```\n",
    "\n",
    "But what about that callback function, `scan_result`? This callback function should take two arguments. The first is a null pointer, and the second is a pointer to an object of type `cyw43_ev_scan_result_t`, as shown below:\n",
    "\n",
    "```c\n",
    "static int scan_result(void *env, const cyw43_ev_scan_result_t *result)\n",
    "```\n",
    "\n",
    "That second argument is a pointer to the following struct:\n",
    "\n",
    "```c\n",
    "typedef struct _cyw43_ev_scan_result_t {\n",
    "    uint32_t _0[5];\n",
    "    uint8_t bssid[6];   ///< access point mac address\n",
    "    uint16_t _1[2];\n",
    "    uint8_t ssid_len;   ///< length of wlan access point name\n",
    "    uint8_t ssid[32];   ///< wlan access point name\n",
    "    uint32_t _2[5];\n",
    "    uint16_t channel;   ///< wifi channel\n",
    "    uint16_t _3;\n",
    "    uint8_t auth_mode;  ///< wifi auth mode \\ref CYW43_AUTH_\n",
    "    int16_t rssi;       ///< signal strength\n",
    "} cyw43_ev_scan_result_t;\n",
    "```\n",
    "\n",
    "Our callback function could go through and print each field of the struct that it receives the pointer to as an argument to learn about each access point.\n",
    "\n",
    "#### Getting signal strength\n",
    "\n",
    "The Received Signal Strength Indicator (RSSI) provides a measure of an access point's signal strength. The `pico_cyw43_arch` library provides a mechanism for learning this value for the access point with which we've connected. The function for doing this is the following:\n",
    "\n",
    "```c\n",
    "cyw43_wifi_get_rssi(&cyw43_state, &rssi)\n",
    "```\n",
    "\n",
    "The first argument is a pointer to the automatically-generated global struct of type `cyw43_t` that gets created during initialization. The second argument, `&rssi`, is simply a pointer to an `int32_t`. This function will dereferece this pointer and set the value at the pointer address to the RSSI of the connected access point.\n",
    "\n",
    "#### Wireless link considerations\n",
    "\n",
    "Please see [Bruce's writeup](https://people.ece.cornell.edu/land/courses/ece4760/RP2040/C_SDK_setup/WIFI/index_wifi_setup.html) on wireless link considerations with the Pico W. Antenna gain patterns, range experiments, etc."
   ]
  },
  {
   "cell_type": "markdown",
   "metadata": {},
   "source": [
    "***"
   ]
  }
 ],
 "metadata": {
  "kernelspec": {
   "display_name": "Python 3",
   "language": "python",
   "name": "python3"
  },
  "language_info": {
   "codemirror_mode": {
    "name": "ipython",
    "version": 3
   },
   "file_extension": ".py",
   "mimetype": "text/x-python",
   "name": "python",
   "nbconvert_exporter": "python",
   "pygments_lexer": "ipython3",
   "version": "3.8.3"
  }
 },
 "nbformat": 4,
 "nbformat_minor": 4
}
